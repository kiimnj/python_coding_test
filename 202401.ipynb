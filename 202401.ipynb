{
 "cells": [
  {
   "cell_type": "markdown",
   "metadata": {},
   "source": [
    "# 프로그래머스"
   ]
  },
  {
   "cell_type": "markdown",
   "metadata": {},
   "source": [
    "## [Lv. 1](https://school.programmers.co.kr/learn/challenges?order=recent&levels=1&languages=python3&page=1)"
   ]
  },
  {
   "cell_type": "markdown",
   "metadata": {},
   "source": [
    "### [부족한 금액 계산하기](https://school.programmers.co.kr/learn/courses/30/lessons/82612)"
   ]
  },
  {
   "cell_type": "code",
   "execution_count": null,
   "metadata": {},
   "outputs": [],
   "source": [
    "def solution(price, money, count):\n",
    "    sums = 0\n",
    "    for i in range(1, count + 1):\n",
    "        sums = sums + i\n",
    "    result = price * sums - money\n",
    "    if (result > 0):\n",
    "        return result\n",
    "    return 0"
   ]
  },
  {
   "cell_type": "code",
   "execution_count": null,
   "metadata": {},
   "outputs": [],
   "source": [
    "def solution(price, money, count):\n",
    "    result = money\n",
    "    for i in range(1, count + 1):\n",
    "        result = result - price * i\n",
    "    if (result > 0):\n",
    "        return result\n",
    "    return 0"
   ]
  },
  {
   "cell_type": "markdown",
   "metadata": {},
   "source": [
    "다른 사람 풀이"
   ]
  },
  {
   "cell_type": "code",
   "execution_count": null,
   "metadata": {},
   "outputs": [],
   "source": [
    "def solution(price, money, count):\n",
    "    return max(0, price * (count + 1) * count // 2 - money)"
   ]
  },
  {
   "cell_type": "code",
   "execution_count": null,
   "metadata": {},
   "outputs": [],
   "source": [
    "def solution(price, money, count):\n",
    "    return abs(min(money - sum([price * i for i in range(1, count+ 1)]), 0))"
   ]
  },
  {
   "cell_type": "markdown",
   "metadata": {},
   "source": [
    "### [최대공약수와 최소공배수](https://school.programmers.co.kr/learn/courses/30/lessons/12940)"
   ]
  },
  {
   "cell_type": "code",
   "execution_count": null,
   "metadata": {},
   "outputs": [],
   "source": [
    "def solution(n, m):\n",
    "    arr1 = []\n",
    "    arr2 = []\n",
    "    answer = []\n",
    "    for i in range(1, n + 1):\n",
    "        if (n % i == 0 and m % i == 0):\n",
    "            arr1.append(i)\n",
    "    answer.append(max(arr1))\n",
    "    for j in range(n, n * m + 1):\n",
    "        if (j % n == 0) and (j % m == 0):\n",
    "            arr2.append(j)\n",
    "    answer.append(min(arr2))\n",
    "    return answer"
   ]
  },
  {
   "cell_type": "code",
   "execution_count": null,
   "metadata": {},
   "outputs": [],
   "source": [
    "def solution(n, m):\n",
    "    arr1 = []\n",
    "    arr2 = []\n",
    "    answer = []\n",
    "    for i in range(1, n + 1):\n",
    "        if (n % i == 0 and m % i == 0):\n",
    "            arr1.append(i)\n",
    "    answer.append(max(arr1))\n",
    "    \n",
    "    #기존 틀린 풀이\n",
    "    for j in range(n, m + 1):\n",
    "        if ((n * j) % m == 0):\n",
    "            arr2.append(j)\n",
    "\n",
    "    answer.append(min(arr2))\n",
    "    return answer"
   ]
  },
  {
   "cell_type": "markdown",
   "metadata": {},
   "source": [
    "다른 사람 풀이"
   ]
  },
  {
   "cell_type": "code",
   "execution_count": null,
   "metadata": {},
   "outputs": [],
   "source": [
    "def gcdlcm(a, b):\n",
    "    c, d = max(a, b), min(a, b)\n",
    "    t = 1\n",
    "    while t > 0:\n",
    "        t = c % d\n",
    "        c, d = d, t\n",
    "    answer = [c , int(a * b / c)]\n",
    "    return answer"
   ]
  },
  {
   "cell_type": "code",
   "execution_count": null,
   "metadata": {},
   "outputs": [],
   "source": [
    "def solution(n, m):\n",
    "    gcd = lambda a, b : b if not a % b else gcd(b, a % b)\n",
    "    lcm = lambda a, b : a * b // gcd(a, b)\n",
    "    return [gcd(n, m), lcm(n, m)]"
   ]
  },
  {
   "cell_type": "code",
   "execution_count": null,
   "metadata": {},
   "outputs": [],
   "source": [
    "def gcdlcm(a, b):\n",
    "    for i in range(a):\n",
    "        if a % (a - i) + b % (a - i) == 0:\n",
    "            return [a - i, a * b / (a - i)]"
   ]
  },
  {
   "cell_type": "markdown",
   "metadata": {},
   "source": [
    "### [같은 숫자는 싫어](https://school.programmers.co.kr/learn/courses/30/lessons/12906)"
   ]
  },
  {
   "cell_type": "code",
   "execution_count": null,
   "metadata": {},
   "outputs": [],
   "source": [
    "def solution(arr):\n",
    "    answer = [arr[0]]\n",
    "    for i in range(1, len(arr)):\n",
    "        if (arr[i] != arr[i-1]):\n",
    "            answer.append(arr[i])\n",
    "    return answer"
   ]
  },
  {
   "cell_type": "markdown",
   "metadata": {},
   "source": [
    "다른 사람 풀이"
   ]
  },
  {
   "cell_type": "code",
   "execution_count": null,
   "metadata": {},
   "outputs": [],
   "source": [
    "def solution(arr):\n",
    "    answer = []\n",
    "    for i in arr:\n",
    "        if answer[-1:] == [i]: continue\n",
    "        answer.append(i)\n",
    "    return answer"
   ]
  }
 ],
 "metadata": {
  "language_info": {
   "name": "python"
  }
 },
 "nbformat": 4,
 "nbformat_minor": 2
}
