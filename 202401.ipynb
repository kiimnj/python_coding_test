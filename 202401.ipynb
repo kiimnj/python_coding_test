{
 "cells": [
  {
   "cell_type": "markdown",
   "metadata": {},
   "source": [
    "# 프로그래머스"
   ]
  },
  {
   "cell_type": "markdown",
   "metadata": {},
   "source": [
    "## [Lv. 1](https://school.programmers.co.kr/learn/challenges?order=recent&levels=1&languages=python3&page=1)"
   ]
  },
  {
   "cell_type": "markdown",
   "metadata": {},
   "source": [
    "### [부족한 금액 계산하기](https://school.programmers.co.kr/learn/courses/30/lessons/82612)"
   ]
  },
  {
   "cell_type": "code",
   "execution_count": null,
   "metadata": {},
   "outputs": [],
   "source": [
    "def solution(price, money, count):\n",
    "    sums = 0\n",
    "    for i in range(1, count + 1):\n",
    "        sums = sums + i\n",
    "    result = price * sums - money\n",
    "    if (result > 0):\n",
    "        return result\n",
    "    return 0"
   ]
  },
  {
   "cell_type": "code",
   "execution_count": null,
   "metadata": {},
   "outputs": [],
   "source": [
    "def solution(price, money, count):\n",
    "    result = money\n",
    "    for i in range(1, count + 1):\n",
    "        result = result - price * i\n",
    "    if (result > 0):\n",
    "        return result\n",
    "    return 0"
   ]
  },
  {
   "cell_type": "markdown",
   "metadata": {},
   "source": []
  },
  {
   "cell_type": "markdown",
   "metadata": {},
   "source": [
    "다른 사람 풀이"
   ]
  },
  {
   "cell_type": "code",
   "execution_count": null,
   "metadata": {},
   "outputs": [],
   "source": [
    "def solution(price, money, count):\n",
    "    return max(0, price * (count + 1) * count // 2 - money)"
   ]
  },
  {
   "cell_type": "code",
   "execution_count": null,
   "metadata": {},
   "outputs": [],
   "source": [
    "def solution(price, money, count):\n",
    "    return abs(min(money - sum([price * i for i in range(1, count+ 1)]), 0))"
   ]
  }
 ],
 "metadata": {
  "language_info": {
   "name": "python"
  }
 },
 "nbformat": 4,
 "nbformat_minor": 2
}
