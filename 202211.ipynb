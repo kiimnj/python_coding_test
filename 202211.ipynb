{
 "cells": [
  {
   "cell_type": "code",
   "execution_count": null,
   "metadata": {},
   "outputs": [],
   "source": []
  },
  {
   "cell_type": "markdown",
   "metadata": {},
   "source": [
    "# 프로그래머스"
   ]
  },
  {
   "cell_type": "markdown",
   "metadata": {},
   "source": [
    "## Lv. 1"
   ]
  },
  {
   "cell_type": "markdown",
   "metadata": {},
   "source": [
    "### [숫자 문자열과 영단어 - 2021 카카오 인턴십](https://school.programmers.co.kr/learn/courses/30/lessons/81301)"
   ]
  },
  {
   "cell_type": "code",
   "execution_count": null,
   "metadata": {},
   "outputs": [],
   "source": [
    "def solution(s):\n",
    "    answer = s.replace(\"zero\",\"0\").replace(\"one\",\"1\").replace(\"two\",\"2\").replace(\"three\",\"3\").replace(\"four\",\"4\").replace(\"five\",\"5\").replace(\"six\",\"6\").replace(\"seven\",\"7\").replace(\"eight\",\"8\").replace(\"nine\",\"9\")\n",
    "\n",
    "    return int(answer)"
   ]
  },
  {
   "cell_type": "markdown",
   "metadata": {},
   "source": [
    "### [키패드 누르기 - 2020 카카오 인턴십](https://school.programmers.co.kr/learn/courses/30/lessons/67256)"
   ]
  },
  {
   "cell_type": "code",
   "execution_count": null,
   "metadata": {},
   "outputs": [],
   "source": [
    "def solution(numbers, hand):\n",
    "# 147=L 369=R 2580=조건설정 같다면 어느손잡이인지\n",
    "# 설정조건: 거리 비교하기\n",
    "# 오른,왼 손가락 위치 저장\n",
    "    num=numbers\n",
    "    ans=\"\"\n",
    "    Lf, Rf = (1,4), (3,4) # 손가락 초기 위치 좌표\n",
    "\n",
    "    for i in num:\n",
    "      if i==1 or i==4 or i==7:\n",
    "        ans+= \"L\"\n",
    "        if i==1:\n",
    "          Lf=(1,1)\n",
    "        elif i==4:\n",
    "          Lf=(1,2)\n",
    "        else:\n",
    "          Lf=(1,3)\n",
    "\n",
    "      elif i==3 or i==6 or i==9:\n",
    "        ans+= \"R\"\n",
    "        if i==3:\n",
    "          Rf=(3,1)\n",
    "        elif i==6:\n",
    "          Rf=(3,2)\n",
    "        else:\n",
    "          Rf=(3,3)\n",
    "\n",
    "      else:\n",
    "        a= {1:(1,1),2:(2,1),3:(3,1),4:(1,2),5:(2,2),6:(3,2),7:(1,3),8:(2,3),9:(3,3),0:(2,4)}\n",
    "        ip= a[i]\n",
    "\n",
    "        # 각 손가락과 누를 키패드 거리 계산\n",
    "        Ld= (ip[0]-Lf[0],ip[1]-Lf[1])\n",
    "        Rd= (ip[0]-Rf[0],ip[1]-Rf[1])\n",
    "\n",
    "        if (Ld[0]**2+Ld[1]**2) < (Rd[0]**2+Rd[1]**2):\n",
    "          ans+= \"L\"\n",
    "          if i==2:\n",
    "            Lf=(2,1)\n",
    "          elif i==5:\n",
    "            Lf=(2,2)\n",
    "          elif i==8:\n",
    "            Lf=(2,3)\n",
    "          else:\n",
    "            Lf=(2,4)\n",
    "\n",
    "        elif (Ld[0]**2+Ld[1]**2) > (Rd[0]**2+Rd[1]**2):\n",
    "          ans+= \"R\"\n",
    "          if i==2:\n",
    "            Rf=(2,1)\n",
    "          elif i==5:\n",
    "            Rf=(2,2)\n",
    "          elif i==8:\n",
    "            Rf=(2,3)\n",
    "          else:\n",
    "            Rf=(2,4)\n",
    "\n",
    "        else:\n",
    "          if hand==\"left\":\n",
    "            ans+= \"L\"\n",
    "            if i==2:\n",
    "              Lf=(2,1)\n",
    "            elif i==5:\n",
    "              Lf=(2,2)\n",
    "            elif i==8:\n",
    "              Lf=(2,3)\n",
    "            else:\n",
    "              Lf=(2,4)        \n",
    "          else:\n",
    "            ans+= \"R\"\n",
    "            if i==2:\n",
    "              Rf=(2,1)\n",
    "            elif i==5:\n",
    "              Rf=(2,2)\n",
    "            elif i==8:\n",
    "              Rf=(2,3)\n",
    "            else:\n",
    "              Rf=(2,4) \n",
    "    return ans"
   ]
  },
  {
   "cell_type": "markdown",
   "metadata": {},
   "source": [
    "[다른 사람 풀이](https://school.programmers.co.kr/learn/courses/30/lessons/67256/solution_groups?language=python3)"
   ]
  },
  {
   "cell_type": "markdown",
   "metadata": {},
   "source": [
    "### [K번째수](https://school.programmers.co.kr/learn/courses/30/lessons/42748)"
   ]
  },
  {
   "cell_type": "code",
   "execution_count": null,
   "metadata": {},
   "outputs": [],
   "source": [
    "def solution(array, commands):\n",
    "    answer = []\n",
    "    for command in commands: #한 집합씩 꺼낼 수 있다\n",
    "        i,j,k = command\n",
    "        answer.append(list(sorted(array[i-1:j]))[k-1])\n",
    "    return answer\n",
    "\n",
    "# 내가 commands 2차원배열인줄 모르고 푼거..2차원인거 알고는 못풂\n",
    "# array=[1, 5, 2, 6, 3, 7, 4]\n",
    "# commands=[2,5,3]\n",
    "# [i, j, k]=commands\n",
    "# arr1=[]\n",
    "# for x in range(i-1,j): #기억 안나던게 array[i-1:j] 였다\n",
    "#   arr1.append(array[x])\n",
    "# arr1.sort()\n",
    "# answer=[arr1[k]]"
   ]
  },
  {
   "cell_type": "markdown",
   "metadata": {},
   "source": [
    "[다른 사람 풀이](https://school.programmers.co.kr/learn/courses/30/lessons/42748/solution_groups?language=python3)"
   ]
  },
  {
   "cell_type": "code",
   "execution_count": null,
   "metadata": {},
   "outputs": [],
   "source": [
    "def solution(array, commands):\n",
    "    return list(map(lambda x:sorted(array[x[0]-1:x[1]])[x[2]-1], commands))"
   ]
  },
  {
   "cell_type": "markdown",
   "metadata": {},
   "source": [
    "### [직사각형 별찍기](https://school.programmers.co.kr/learn/courses/30/lessons/12969)"
   ]
  },
  {
   "cell_type": "code",
   "execution_count": null,
   "metadata": {},
   "outputs": [],
   "source": [
    "a, b = map(int, raw_input().strip().split(' '))\n",
    "for i in range(b):\n",
    "    print(\"*\" * a)"
   ]
  },
  {
   "cell_type": "markdown",
   "metadata": {},
   "source": [
    "### [x만큼 간격이 있는 n개의 숫자](https://school.programmers.co.kr/learn/courses/30/lessons/12954)"
   ]
  },
  {
   "cell_type": "code",
   "execution_count": null,
   "metadata": {},
   "outputs": [],
   "source": [
    "def solution(x, n):\n",
    "    answer = []\n",
    "    a=0\n",
    "    for i in range(n):\n",
    "        a+=x\n",
    "        answer.append(a)\n",
    "    return answer"
   ]
  },
  {
   "cell_type": "markdown",
   "metadata": {},
   "source": [
    "[다른 사람 풀이](https://school.programmers.co.kr/learn/courses/30/lessons/12954/solution_groups?language=python3)"
   ]
  },
  {
   "cell_type": "code",
   "execution_count": null,
   "metadata": {},
   "outputs": [],
   "source": [
    "def solution(x, n):\n",
    "    return [i * x + x for i in range(n)]"
   ]
  },
  {
   "cell_type": "markdown",
   "metadata": {},
   "source": [
    "### [행렬의 덧셈](https://school.programmers.co.kr/learn/courses/30/lessons/12950)"
   ]
  },
  {
   "cell_type": "code",
   "execution_count": null,
   "metadata": {},
   "outputs": [],
   "source": [
    "def solution(A,B):\n",
    "    for i in range(len(A)) :\n",
    "        for j in range(len(A[0])):\n",
    "            A[i][j] += B[i][j] \n",
    "    return A\n",
    "# import numpy as np\n",
    "# def solution(A,B):\n",
    "#     A=np.array(A)\n",
    "#     B=np.array(B)\n",
    "#     answer=A+B\n",
    "#     return answer.tolist()\n",
    "#행렬곱셈인줄알고 계속 틀려서 풀이 먼저 봄"
   ]
  },
  {
   "cell_type": "markdown",
   "metadata": {},
   "source": [
    "[다른 사람 풀이](https://school.programmers.co.kr/learn/courses/30/lessons/12950/solution_groups?language=python3)"
   ]
  },
  {
   "cell_type": "code",
   "execution_count": null,
   "metadata": {},
   "outputs": [],
   "source": [
    "def solution(A,B):\n",
    "    answer = [[c + d for c, d in zip(a,b)] for a, b in zip(A,B)]\n",
    "    return answer"
   ]
  },
  {
   "cell_type": "markdown",
   "metadata": {},
   "source": [
    "### [핸드폰 번호 가리기](https://school.programmers.co.kr/learn/courses/30/lessons/12948)"
   ]
  },
  {
   "cell_type": "code",
   "execution_count": null,
   "metadata": {},
   "outputs": [],
   "source": [
    "def solution(phone_number):\n",
    "    num= phone_number[-4:]\n",
    "    bl=\"*\"*(len(phone_number)-4)\n",
    "    answer = bl+num\n",
    "    return answer"
   ]
  },
  {
   "cell_type": "markdown",
   "metadata": {},
   "source": [
    "### [하샤드 수](https://school.programmers.co.kr/learn/courses/30/lessons/12947)"
   ]
  },
  {
   "cell_type": "code",
   "execution_count": null,
   "metadata": {},
   "outputs": [],
   "source": [
    "def solution(x):\n",
    "    a=(x-(x%1000))/1000\n",
    "    b=((x%1000)-(x%100))/100\n",
    "    c=((x%100)-(x%10))/10\n",
    "    d=(x%10)\n",
    "    y=a+b+c+d\n",
    "    if x%y==0:\n",
    "        answer = True\n",
    "    else:\n",
    "        answer= False\n",
    "        \n",
    "    return answer"
   ]
  },
  {
   "cell_type": "markdown",
   "metadata": {},
   "source": [
    "[다른 사람 풀이](https://school.programmers.co.kr/learn/courses/30/lessons/12947/solution_groups?language=python3)"
   ]
  },
  {
   "cell_type": "code",
   "execution_count": null,
   "metadata": {},
   "outputs": [],
   "source": [
    "def solution(n):\n",
    "    return n%sum(int(x) for x in str(n)) == 0"
   ]
  },
  {
   "cell_type": "markdown",
   "metadata": {},
   "source": [
    "### [평균 구하기](https://school.programmers.co.kr/learn/courses/30/lessons/12944)"
   ]
  },
  {
   "cell_type": "code",
   "execution_count": null,
   "metadata": {},
   "outputs": [],
   "source": [
    "def solution(arr):\n",
    "    answer = 0\n",
    "    for i in range(len(arr)):\n",
    "        answer+=arr[i]\n",
    "    answer= 1.0*answer/(len(arr))\n",
    "    return answer\n",
    "\n",
    "# average(), sum()썼어도 됨\n",
    "# 1.0 곱해야 하는 이유..?...int씌워도 안되던게..\n",
    "# 코랩이랑 IDLE에선 1.0 안 곱해도 잘 돌아감"
   ]
  },
  {
   "cell_type": "markdown",
   "metadata": {},
   "source": [
    "### [콜라츠 추측](https://school.programmers.co.kr/learn/courses/30/lessons/12943)"
   ]
  },
  {
   "cell_type": "code",
   "execution_count": null,
   "metadata": {},
   "outputs": [],
   "source": [
    "def solution(num):\n",
    "    answer = 0\n",
    "    if num==1:\n",
    "        answer=0\n",
    "    else:\n",
    "        while (answer<500 and num!=1):\n",
    "            answer=answer+1\n",
    "            if num%2==0:\n",
    "                num=num/2\n",
    "            else:\n",
    "                num=(num*3)+1\n",
    "        if answer==500:\n",
    "            answer=-1\n",
    "    return answer"
   ]
  },
  {
   "cell_type": "markdown",
   "metadata": {},
   "source": [
    "[다른 사람 풀이](https://school.programmers.co.kr/learn/courses/30/lessons/12943/solution_groups?language=python3&type=all)"
   ]
  },
  {
   "cell_type": "code",
   "execution_count": null,
   "metadata": {},
   "outputs": [],
   "source": [
    "def solution(num):\n",
    "    for i in range(500):\n",
    "        num=num/2 if num%2==0 else num*3+1\n",
    "        if num==1:\n",
    "            return i+1\n",
    "    return -1"
   ]
  },
  {
   "cell_type": "code",
   "execution_count": null,
   "metadata": {},
   "outputs": [],
   "source": [
    "def solution(num):\n",
    "    answer = 0\n",
    "    while num!=1:\n",
    "        if num%2==0:\n",
    "            num=num/2\n",
    "        else:\n",
    "            num=3*num+1\n",
    "        answer=answer+1\n",
    "\n",
    "        if answer>=500:\n",
    "            return -1\n",
    "\n",
    "    return answer"
   ]
  },
  {
   "cell_type": "markdown",
   "metadata": {},
   "source": [
    "### [짝수와 홀수](https://school.programmers.co.kr/learn/courses/30/lessons/12937)"
   ]
  },
  {
   "cell_type": "code",
   "execution_count": null,
   "metadata": {},
   "outputs": [],
   "source": [
    "def solution(num):\n",
    "    if num%2:\n",
    "        answer = 'Odd'\n",
    "    else:\n",
    "        answer = 'Even'\n",
    "    return answer"
   ]
  },
  {
   "cell_type": "markdown",
   "metadata": {},
   "source": [
    "### [제일 작은 수 제거하기](https://school.programmers.co.kr/learn/courses/30/lessons/12935)"
   ]
  },
  {
   "cell_type": "code",
   "execution_count": null,
   "metadata": {},
   "outputs": [],
   "source": [
    "def solution(arr):\n",
    "    arr.remove(min(arr))\n",
    "    answer = arr\n",
    "    if len(arr)==0 :\n",
    "        answer=[-1]\n",
    "    return answer"
   ]
  },
  {
   "cell_type": "markdown",
   "metadata": {},
   "source": [
    "### [정수 제곱근 판별](https://school.programmers.co.kr/learn/courses/30/lessons/12934)"
   ]
  },
  {
   "cell_type": "code",
   "execution_count": null,
   "metadata": {},
   "outputs": [],
   "source": [
    "def solution(n):\n",
    "    x=n**(1/2)\n",
    "    if x%1 == 0 :\n",
    "        answer = (x+1)**2\n",
    "    else:\n",
    "        answer= -1\n",
    "    return answer\n",
    "\n",
    "#python2로 안됨"
   ]
  },
  {
   "cell_type": "markdown",
   "metadata": {},
   "source": [
    "[다른 사람 풀이](https://school.programmers.co.kr/learn/courses/30/lessons/12935/solution_groups?language=python3)"
   ]
  },
  {
   "cell_type": "code",
   "execution_count": null,
   "metadata": {},
   "outputs": [],
   "source": [
    "def rm_small(mylist):\n",
    "    return [i for i in mylist if i > min(mylist)]"
   ]
  }
 ],
 "metadata": {
  "language_info": {
   "name": "python"
  }
 },
 "nbformat": 4,
 "nbformat_minor": 2
}
