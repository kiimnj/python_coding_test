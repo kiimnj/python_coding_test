{
 "cells": [
  {
   "cell_type": "markdown",
   "metadata": {},
   "source": [
    "# 프로그래머스"
   ]
  },
  {
   "cell_type": "markdown",
   "metadata": {},
   "source": [
    "## [Lv. 1](https://school.programmers.co.kr/learn/challenges?order=recent&levels=1&languages=python3&page=1)"
   ]
  },
  {
   "cell_type": "markdown",
   "metadata": {},
   "source": [
    "### [예산](https://school.programmers.co.kr/learn/courses/30/lessons/12982)"
   ]
  },
  {
   "cell_type": "code",
   "execution_count": null,
   "metadata": {},
   "outputs": [],
   "source": [
    "def solution(d, budget):\n",
    "    cnt = 0\n",
    "    for i in sorted(d):\n",
    "        if budget  - i >= 0:\n",
    "            budget = budget - i\n",
    "            cnt = cnt + 1\n",
    "    return cnt"
   ]
  },
  {
   "cell_type": "markdown",
   "metadata": {},
   "source": [
    "다른 사람 풀이"
   ]
  },
  {
   "cell_type": "code",
   "execution_count": null,
   "metadata": {},
   "outputs": [],
   "source": [
    "def solution(d, budget):\n",
    "    d.sort()\n",
    "    while budget < sum(d):\n",
    "        d.pop()\n",
    "    return len(d)"
   ]
  },
  {
   "cell_type": "markdown",
   "metadata": {},
   "source": [
    "### [소수 만들기](https://school.programmers.co.kr/learn/courses/30/lessons/12977)"
   ]
  },
  {
   "cell_type": "code",
   "execution_count": null,
   "metadata": {},
   "outputs": [],
   "source": [
    "def solution(nums):\n",
    "    sum1 = 0\n",
    "    cnt = 0\n",
    "\n",
    "    def is_prime_num(x):\n",
    "        for i in range(2, x):\n",
    "            if x % i == 0:\n",
    "                return False\n",
    "        return True\n",
    "\n",
    "    for i in range(len(nums) - 2):\n",
    "        for j in range(i + 1, len(nums) - 1):\n",
    "            for k in range(j + 1, len(nums)):\n",
    "                sum1 = nums[i] + nums[j] + nums[k]\n",
    "                if is_prime_num(sum1):\n",
    "                    cnt = cnt + 1\n",
    "    return cnt"
   ]
  },
  {
   "cell_type": "markdown",
   "metadata": {},
   "source": [
    "다른 사람 풀이"
   ]
  },
  {
   "cell_type": "code",
   "execution_count": null,
   "metadata": {},
   "outputs": [],
   "source": [
    "def solution(nums):\n",
    "    from itertools import combinations as cb\n",
    "    answer = 0\n",
    "    for a in cb(nums, 3):\n",
    "        cand = sum(a)\n",
    "        for j in range(2, cand):\n",
    "            if cand % j == 0:\n",
    "                break\n",
    "        else:\n",
    "            answer += 1\n",
    "    return answer"
   ]
  },
  {
   "cell_type": "markdown",
   "metadata": {},
   "source": [
    "소수 판정법 중에 가장 알려진 예시 하나가 주어진 자연수 n에 대해서 1보다 크고 루트 n 이하인 모든 자연수들로 나누어떨어지지 않으면 소수라는 것인데, 이걸 이용"
   ]
  },
  {
   "cell_type": "code",
   "execution_count": null,
   "metadata": {},
   "outputs": [],
   "source": [
    "from itertools import combinations\n",
    "def prime_number(x):\n",
    "    answer = 0\n",
    "    for i in range(1,int(x ** 0.5)+1):\n",
    "        if x % i == 0:\n",
    "            answer += 1\n",
    "    return 1 if answer == 1 else 0\n",
    "\n",
    "def solution(nums):\n",
    "    return sum([prime_number(sum(c)) for c in combinations(nums, 3)])"
   ]
  },
  {
   "cell_type": "markdown",
   "metadata": {},
   "source": [
    "채점 방식을 이용해 항상 정답이 되도록 하는 코드..."
   ]
  },
  {
   "cell_type": "code",
   "execution_count": null,
   "metadata": {},
   "outputs": [],
   "source": [
    "class ALWAYS_CORRECT(object):\n",
    "    def __eq__(self, other):\n",
    "        return True\n",
    "\n",
    "def solution(a):\n",
    "    answer = ALWAYS_CORRECT()\n",
    "    return answer"
   ]
  }
 ],
 "metadata": {
  "language_info": {
   "name": "python"
  }
 },
 "nbformat": 4,
 "nbformat_minor": 2
}
