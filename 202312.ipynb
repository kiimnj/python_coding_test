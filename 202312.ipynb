{
 "cells": [
  {
   "cell_type": "markdown",
   "metadata": {},
   "source": [
    "# 프로그래머스\n",
    "2023 12월"
   ]
  },
  {
   "cell_type": "markdown",
   "metadata": {},
   "source": [
    "## [Lv. 1](https://school.programmers.co.kr/learn/challenges?order=recent&levels=1&languages=python3&page=1)"
   ]
  },
  {
   "cell_type": "markdown",
   "metadata": {},
   "source": [
    "### [[PCCP 기출문제] 1번](https://school.programmers.co.kr/learn/courses/30/lessons/250137)"
   ]
  },
  {
   "cell_type": "code",
   "execution_count": null,
   "metadata": {},
   "outputs": [],
   "source": [
    "def solution(bandage, health, attacks):\n",
    "    # bandage는 [시전 시간, 초당 회복량, 추가 회복량] 형태\n",
    "    # health는 최대 체력\n",
    "    # attacks[i]는 [공격 시간, 피해량] 형태\n",
    "    # 모든 공격이 끝난 직후 남은 체력을 return, 죽으면 -1\n",
    "    max_health = health\n",
    "    cont_sec = 0\n",
    "    for sec in range(attacks[-1][0] + 1):\n",
    "        attacked = False\n",
    "        # 공격당하면 다음 초로 넘어감\n",
    "        for attack in attacks:\n",
    "            if attack[0] == sec:\n",
    "                health -= attack[1]\n",
    "                cont_sec = 0\n",
    "                attacked = True\n",
    "                if health <= 0:\n",
    "                    return -1\n",
    "                break\n",
    "        if attacked:\n",
    "            attacked = False\n",
    "            continue\n",
    "            \n",
    "        else:\n",
    "        # 공격 안당했으면 연속시간, 회복, 연속보상\n",
    "            cont_sec += 1\n",
    "            \n",
    "            if health + bandage[1] >= max_health:\n",
    "                health = max_health\n",
    "            else:\n",
    "                health += bandage[1]\n",
    "                \n",
    "            if cont_sec == bandage[0]:\n",
    "                if health + bandage[2] >= max_health:\n",
    "                    health = max_health\n",
    "                else:\n",
    "                    health += bandage[2]\n",
    "                cont_sec = 0\n",
    "    return health"
   ]
  },
  {
   "cell_type": "markdown",
   "metadata": {},
   "source": [
    "회고\n",
    "- true false로 바깥 반목문까지 탈출하는 방법은 언젠가 써본적이 또 있음\n",
    "- 구글링 해보니 attack, heal함수 만들어서 사용할 수도 있겠다는 생각\n",
    "- 복합연산자를 그냥 연산만 하는 실수"
   ]
  },
  {
   "cell_type": "code",
   "execution_count": null,
   "metadata": {},
   "outputs": [],
   "source": [
    "# 지피티에게 리팩토링 부탁\n",
    "# 1.attacked 변수를 사용하여 코드를 더 간결하게\n",
    "# 2.max_heal을 사용하여 중복 코드를 제거하고, 최대 체력을 계산하는 부분을 한 곳에서 처리\n",
    "# 3.불필요한 else 블록을 제거하여 가독성을 향상 - ?\n",
    "def solution(bandage, health, attacks):\n",
    "    max_health = health\n",
    "    cont_sec = 0\n",
    "\n",
    "    for sec in range(attacks[-1][0] + 1):\n",
    "        attacked = False\n",
    "\n",
    "        for attack in attacks:\n",
    "            if attack[0] == sec:\n",
    "                health -= attack[1]\n",
    "                cont_sec = 0\n",
    "                attacked = True\n",
    "\n",
    "                if health <= 0:\n",
    "                    return -1\n",
    "                break\n",
    "\n",
    "        if not attacked:\n",
    "            cont_sec += 1\n",
    "            max_heal = max_health if health + bandage[1] >= max_health else health + bandage[1]\n",
    "            health = max_heal\n",
    "\n",
    "            if cont_sec == bandage[0]:\n",
    "                max_heal = max_health if health + bandage[2] >= max_health else health + bandage[2]\n",
    "                health = max_heal\n",
    "                cont_sec = 0\n",
    "\n",
    "    return health\n"
   ]
  },
  {
   "cell_type": "markdown",
   "metadata": {},
   "source": [
    "[다른 사람 풀이](https://school.programmers.co.kr/learn/courses/30/lessons/250137/solution_groups?language=python3&type=all)\n",
    "\n",
    "(여러개 읽어보기)"
   ]
  },
  {
   "cell_type": "code",
   "execution_count": null,
   "metadata": {},
   "outputs": [],
   "source": [
    "def solution(bandage, health, attacks):\n",
    "    hp = health\n",
    "    start = 1\n",
    "    for i, j in attacks:\n",
    "        hp += ((i - start) // bandage[0]) * bandage[2] + (i - start) * bandage[1]\n",
    "        start = i + 1\n",
    "        if hp >= health:\n",
    "            hp = health\n",
    "        hp -= j\n",
    "        if hp <= 0:\n",
    "            return -1\n",
    "    return hp\n"
   ]
  },
  {
   "cell_type": "markdown",
   "metadata": {},
   "source": [
    "- 언패킹\n",
    "- 공격 텀에 생기는 회복 체력을 한 번에 계산"
   ]
  }
 ],
 "metadata": {
  "language_info": {
   "name": "python"
  }
 },
 "nbformat": 4,
 "nbformat_minor": 2
}
