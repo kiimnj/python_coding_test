{
 "cells": [
  {
   "cell_type": "markdown",
   "metadata": {},
   "source": [
    "# 프로그래머스\n",
    "2023 12월"
   ]
  },
  {
   "cell_type": "markdown",
   "metadata": {},
   "source": [
    "## [Lv. 1](https://school.programmers.co.kr/learn/challenges?order=recent&levels=1&languages=python3&page=1)"
   ]
  },
  {
   "cell_type": "markdown",
   "metadata": {},
   "source": [
    "### [[PCCP 기출문제] 1번](https://school.programmers.co.kr/learn/courses/30/lessons/250137)"
   ]
  },
  {
   "cell_type": "code",
   "execution_count": null,
   "metadata": {},
   "outputs": [],
   "source": [
    "def solution(bandage, health, attacks):\n",
    "    # bandage는 [시전 시간, 초당 회복량, 추가 회복량] 형태\n",
    "    # health는 최대 체력\n",
    "    # attacks[i]는 [공격 시간, 피해량] 형태\n",
    "    # 모든 공격이 끝난 직후 남은 체력을 return, 죽으면 -1\n",
    "    max_health = health\n",
    "    cont_sec = 0\n",
    "    for sec in range(attacks[-1][0] + 1):\n",
    "        attacked = False\n",
    "        # 공격당하면 다음 초로 넘어감\n",
    "        for attack in attacks:\n",
    "            if attack[0] == sec:\n",
    "                health -= attack[1]\n",
    "                cont_sec = 0\n",
    "                attacked = True\n",
    "                if health <= 0:\n",
    "                    return -1\n",
    "                break\n",
    "        if attacked:\n",
    "            attacked = False\n",
    "            continue\n",
    "            \n",
    "        else:\n",
    "        # 공격 안당했으면 연속시간, 회복, 연속보상\n",
    "            cont_sec += 1\n",
    "            \n",
    "            if health + bandage[1] >= max_health:\n",
    "                health = max_health\n",
    "            else:\n",
    "                health += bandage[1]\n",
    "                \n",
    "            if cont_sec == bandage[0]:\n",
    "                if health + bandage[2] >= max_health:\n",
    "                    health = max_health\n",
    "                else:\n",
    "                    health += bandage[2]\n",
    "                cont_sec = 0\n",
    "    return health"
   ]
  },
  {
   "cell_type": "markdown",
   "metadata": {},
   "source": [
    "회고\n",
    "- true false로 바깥 반목문까지 탈출하는 방법은 언젠가 써본적이 또 있음\n",
    "- 구글링 해보니 attack, heal함수 만들어서 사용할 수도 있겠다는 생각\n",
    "- 복합연산자를 그냥 연산만 하는 실수"
   ]
  },
  {
   "cell_type": "code",
   "execution_count": null,
   "metadata": {},
   "outputs": [],
   "source": [
    "# 지피티에게 리팩토링 부탁\n",
    "# 1.attacked 변수를 사용하여 코드를 더 간결하게\n",
    "# 2.max_heal을 사용하여 중복 코드를 제거하고, 최대 체력을 계산하는 부분을 한 곳에서 처리\n",
    "# 3.불필요한 else 블록을 제거하여 가독성을 향상 - ?\n",
    "def solution(bandage, health, attacks):\n",
    "    max_health = health\n",
    "    cont_sec = 0\n",
    "\n",
    "    for sec in range(attacks[-1][0] + 1):\n",
    "        attacked = False\n",
    "\n",
    "        for attack in attacks:\n",
    "            if attack[0] == sec:\n",
    "                health -= attack[1]\n",
    "                cont_sec = 0\n",
    "                attacked = True\n",
    "\n",
    "                if health <= 0:\n",
    "                    return -1\n",
    "                break\n",
    "\n",
    "        if not attacked:\n",
    "            cont_sec += 1\n",
    "            max_heal = max_health if health + bandage[1] >= max_health else health + bandage[1]\n",
    "            health = max_heal\n",
    "\n",
    "            if cont_sec == bandage[0]:\n",
    "                max_heal = max_health if health + bandage[2] >= max_health else health + bandage[2]\n",
    "                health = max_heal\n",
    "                cont_sec = 0\n",
    "\n",
    "    return health\n"
   ]
  },
  {
   "cell_type": "markdown",
   "metadata": {},
   "source": [
    "[다른 사람 풀이](https://school.programmers.co.kr/learn/courses/30/lessons/250137/solution_groups?language=python3&type=all)"
   ]
  },
  {
   "cell_type": "code",
   "execution_count": null,
   "metadata": {},
   "outputs": [],
   "source": [
    "def solution(bandage, health, attacks):\n",
    "    hp = health\n",
    "    start = 1\n",
    "    for i, j in attacks:\n",
    "        hp += ((i - start) // bandage[0]) * bandage[2] + (i - start) * bandage[1]\n",
    "        start = i + 1\n",
    "        if hp >= health:\n",
    "            hp = health\n",
    "        hp -= j\n",
    "        if hp <= 0:\n",
    "            return -1\n",
    "    return hp\n"
   ]
  },
  {
   "cell_type": "markdown",
   "metadata": {},
   "source": [
    "- 언패킹\n",
    "- 공격 텀에 생기는 회복 체력을 한 번에 계산"
   ]
  },
  {
   "cell_type": "markdown",
   "metadata": {},
   "source": [
    "### [[PCCE 기출문제] 9번 / 이웃한 칸](https://school.programmers.co.kr/learn/courses/30/lessons/250125)"
   ]
  },
  {
   "cell_type": "code",
   "execution_count": null,
   "metadata": {},
   "outputs": [],
   "source": [
    "def solution(board, h, w):\n",
    "    n = len(board)\n",
    "    count = 0\n",
    "    dh = [0, 1, -1, 0]\n",
    "    dw = [1, 0, 0, -1]\n",
    "    for i in range(4):\n",
    "        h_check = h + dh[i]\n",
    "        w_check = w + dw[i]\n",
    "        if (h_check >= 0 and h_check < n) and (w_check >= 0 and w_check < n) and (board[h][w] == board[h_check][w_check]):\n",
    "            count += 1\n",
    "    return count"
   ]
  },
  {
   "cell_type": "markdown",
   "metadata": {},
   "source": [
    "회고\n",
    "- 의사코드 그대로 따라 치기만 하는 문제\n",
    "- range(4)는 0~3 네 개의 숫자"
   ]
  },
  {
   "cell_type": "markdown",
   "metadata": {},
   "source": [
    "[다른 사람 풀이](https://school.programmers.co.kr/learn/courses/30/lessons/250125/solution_groups?language=python3)"
   ]
  },
  {
   "cell_type": "code",
   "execution_count": null,
   "metadata": {},
   "outputs": [],
   "source": [
    "def solution(board, h, w):\n",
    "    answer = 0\n",
    "\n",
    "    if 0 < h:\n",
    "        if board[h][w] == board[h-1][w]: answer += 1\n",
    "    if 0 < w:\n",
    "        if board[h][w] == board[h][w-1]: answer += 1\n",
    "    if h < len(board) - 1:\n",
    "        if board[h][w] == board[h+1][w]: answer += 1\n",
    "    if w < len(board[0]) - 1:\n",
    "        if board[h][w] == board[h][w+1]: answer += 1\n",
    "\n",
    "    return answer"
   ]
  },
  {
   "cell_type": "markdown",
   "metadata": {},
   "source": [
    "### [[PCCE 기출문제] 10번 / 데이터 분석](https://school.programmers.co.kr/learn/courses/30/lessons/250121)"
   ]
  },
  {
   "cell_type": "code",
   "execution_count": null,
   "metadata": {},
   "outputs": [],
   "source": [
    "def solution(data, ext, val_ext, sort_by):\n",
    "    ext_dict = {'code': 0, 'date': 1, 'maximum': 2, 'remain': 3}\n",
    "    arr = []\n",
    "\n",
    "    for i in range(len(data)):\n",
    "        if data[i][ext_dict[ext]] < val_ext:\n",
    "            arr.append(data[i])\n",
    "            \n",
    "    arr.sort(key=lambda x: x[ext_dict[sort_by]])\n",
    "    # sorted(arr, key=lambda x: x[ext_dict[sort_by])\n",
    "    return arr"
   ]
  },
  {
   "cell_type": "code",
   "execution_count": null,
   "metadata": {},
   "outputs": [],
   "source": [
    "# 틀림 - 왜? 최적화 때문?\n",
    "def solution(data, ext, val_ext, sort_by):\n",
    "    ext_dict = {'code': 0, 'date': 1, 'maximum': 2, 'remain': 3}\n",
    "    arr = []\n",
    "    temp = []\n",
    "    \n",
    "    for i in range(len(data)):\n",
    "        if data[i][ext_dict[ext]] < val_ext:\n",
    "            arr.append(data[i])\n",
    "            \n",
    "    for j in range(len(arr) - 1):\n",
    "        if arr[j][ext_dict[sort_by]] > arr[j+1][ext_dict[sort_by]]:\n",
    "            temp = arr[j+1]\n",
    "            arr[j+1] = arr[j]\n",
    "            arr[j] = temp\n",
    "    return arr"
   ]
  },
  {
   "cell_type": "markdown",
   "metadata": {},
   "source": [
    "회고\n",
    "- 대체로 파이썬의 sort 함수는 최적화되어 있어서 내장 함수를 사용하는 것이 더 효율적입니다. 이는 C로 구현되어 있어서 빠른 속도로 정렬이 이루어지기 때문입니다.\n",
    "- `arr.sort(..) == sorted(arr, ..)`"
   ]
  },
  {
   "cell_type": "code",
   "execution_count": null,
   "metadata": {},
   "outputs": [],
   "source": [
    "def solution(data, ext, val_ext, sort_by):\n",
    "    ext_list = [\"code\", \"date\", \"maximum\", \"remain\"]\n",
    "    data = [x for x in data if x[ext_list.index(ext)] < val_ext]\n",
    "    data.sort(key=lambda x: x[ext_list.index(sort_by)])\n",
    "    return data"
   ]
  },
  {
   "cell_type": "markdown",
   "metadata": {},
   "source": [
    "### [두 개 뽑아서 더하기](https://school.programmers.co.kr/learn/courses/30/lessons/68644)"
   ]
  },
  {
   "cell_type": "code",
   "execution_count": null,
   "metadata": {},
   "outputs": [],
   "source": [
    "def solution(numbers):\n",
    "    answer = []\n",
    "    for idx, i in enumerate(numbers):\n",
    "        for j in numbers[idx + 1:]:\n",
    "            a = i + j\n",
    "            if a not in answer:\n",
    "                answer.append(a)\n",
    "    return sorted(answer)"
   ]
  },
  {
   "cell_type": "markdown",
   "metadata": {},
   "source": [
    "회고\n",
    "- enumerate는 인덱스, 값 순으로 반환\n",
    "- sorted(answer)는 값을 반환, answer.sort()는 answer자체를 정렬시키는 함수(void)\n",
    "- numbers[i]를 쓸 거라면 enumerate"
   ]
  },
  {
   "cell_type": "code",
   "execution_count": 5,
   "metadata": {},
   "outputs": [
    {
     "data": {
      "text/plain": [
       "[0, 1, 2, 4]"
      ]
     },
     "execution_count": 5,
     "metadata": {},
     "output_type": "execute_result"
    }
   ],
   "source": [
    "answer = [4,1,2,0]\n",
    "sorted(answer)"
   ]
  },
  {
   "cell_type": "code",
   "execution_count": 6,
   "metadata": {},
   "outputs": [
    {
     "data": {
      "text/plain": [
       "[0, 1, 2, 4]"
      ]
     },
     "execution_count": 6,
     "metadata": {},
     "output_type": "execute_result"
    }
   ],
   "source": [
    "answer = [4,1,2,0]\n",
    "answer.sort()\n",
    "answer"
   ]
  },
  {
   "cell_type": "markdown",
   "metadata": {},
   "source": [
    "[다른 사람 풀이](https://school.programmers.co.kr/learn/courses/30/lessons/68644/solution_groups?language=python3)"
   ]
  },
  {
   "cell_type": "code",
   "execution_count": null,
   "metadata": {},
   "outputs": [],
   "source": [
    "def solution(numbers):\n",
    "    answer = []\n",
    "    for i in range(len(numbers)):\n",
    "        for j in range(i+1, len(numbers)):\n",
    "            answer.append(numbers[i] + numbers[j])\n",
    "    return sorted(list(set(answer)))"
   ]
  }
 ],
 "metadata": {
  "kernelspec": {
   "display_name": "Python 3",
   "language": "python",
   "name": "python3"
  },
  "language_info": {
   "codemirror_mode": {
    "name": "ipython",
    "version": 3
   },
   "file_extension": ".py",
   "mimetype": "text/x-python",
   "name": "python",
   "nbconvert_exporter": "python",
   "pygments_lexer": "ipython3",
   "version": "3.11.4"
  }
 },
 "nbformat": 4,
 "nbformat_minor": 2
}
