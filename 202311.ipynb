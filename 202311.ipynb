{
 "cells": [
  {
   "cell_type": "markdown",
   "metadata": {},
   "source": [
    "# 프로그래머스\n",
    "2023.11월"
   ]
  },
  {
   "cell_type": "markdown",
   "metadata": {},
   "source": [
    "## [Lv. 0](https://school.programmers.co.kr/learn/challenges?order=recent&levels=0&languages=python3)"
   ]
  },
  {
   "cell_type": "markdown",
   "metadata": {},
   "source": [
    "### [공배수](https://school.programmers.co.kr/learn/courses/30/lessons/181936)"
   ]
  },
  {
   "cell_type": "code",
   "execution_count": null,
   "id": "7e917b4b",
   "metadata": {},
   "outputs": [],
   "source": [
    "def solution(number, n, m):\n",
    "    if (number % n == 0) & (number % m == 0):\n",
    "        return 1\n",
    "    else:\n",
    "        return 0"
   ]
  },
  {
   "cell_type": "markdown",
   "metadata": {},
   "source": [
    "회고\n",
    "- else뒤  :\n",
    "- n만 조건확인했음"
   ]
  },
  {
   "cell_type": "markdown",
   "metadata": {},
   "source": [
    "[다른 사람 풀이](https://school.programmers.co.kr/learn/courses/30/lessons/181936/solution_groups?language=python3)"
   ]
  },
  {
   "cell_type": "code",
   "execution_count": null,
   "metadata": {},
   "outputs": [],
   "source": [
    "def solution(number, n, m):\n",
    "    return 1 if number % n== 0 and number % m == 0 else 0"
   ]
  },
  {
   "cell_type": "code",
   "execution_count": null,
   "metadata": {},
   "outputs": [],
   "source": [
    "def solution(number, n, m):\n",
    "    return int(number % n == 0 and number % m == 0)"
   ]
  },
  {
   "cell_type": "markdown",
   "metadata": {},
   "source": [
    "### [코드 처리하기](https://school.programmers.co.kr/learn/courses/30/lessons/181932)"
   ]
  },
  {
   "cell_type": "code",
   "execution_count": null,
   "metadata": {},
   "outputs": [],
   "source": [
    "def solution(code):\n",
    "    ret = ''\n",
    "    mode = 0\n",
    "    for idx in range(len(code)):\n",
    "        if mode == 0 : \n",
    "            if code[idx] != '1' and idx % 2 == 0:\n",
    "                ret += code[idx]\n",
    "            elif code[idx] == '1':\n",
    "                mode = 1\n",
    "        else :\n",
    "            if code[idx] != '1' and idx % 2 == 1 :\n",
    "                ret += code[idx]\n",
    "            elif code[idx] == '1':\n",
    "                mode = 0\n",
    "    if ret == '':\n",
    "        return 'EMPTY'\n",
    "    return ret"
   ]
  },
  {
   "cell_type": "markdown",
   "metadata": {},
   "source": [
    "회고\n",
    "- 파이썬은 \"\"보다 ''권장\n",
    "- &는 논리연산자이고 일반 연산자는 and\n",
    "- range(0, len(code) - 1)라고 했었는데 -1 필요 없음, 0부터면 시작 범위 안써도 됨"
   ]
  },
  {
   "cell_type": "markdown",
   "metadata": {},
   "source": [
    "[다른 사람 풀이 1](https://velog.io/@yule/Programmers-Level-0-%EC%BD%94%EB%93%9C-%EC%B2%98%EB%A6%AC%ED%95%98%EA%B8%B0)"
   ]
  },
  {
   "cell_type": "code",
   "execution_count": null,
   "metadata": {},
   "outputs": [],
   "source": [
    "def solution(code):\n",
    "    answer = ''\n",
    "\n",
    "    mode = 0\n",
    "    for i in range(len(code)):\n",
    "        if code[i] == '1':\n",
    "            mode ^= 1\n",
    "        else:\n",
    "            if i % 2 == mode:\n",
    "                answer += code[i]\n",
    "\n",
    "    return answer if answer else 'EMPTY'"
   ]
  },
  {
   "cell_type": "markdown",
   "metadata": {},
   "source": [
    "[다른 사람 풀이 2](https://school.programmers.co.kr/learn/courses/30/lessons/181932/solution_groups?language=python3)"
   ]
  },
  {
   "cell_type": "code",
   "execution_count": null,
   "metadata": {},
   "outputs": [],
   "source": [
    "def solution(code):\n",
    "    return \"\".join(code.split(\"1\"))[::2] or \"EMPTY\""
   ]
  },
  {
   "cell_type": "markdown",
   "metadata": {},
   "source": [
    "### [수 조작하기 1](https://school.programmers.co.kr/learn/courses/30/lessons/181926)"
   ]
  },
  {
   "cell_type": "code",
   "execution_count": null,
   "metadata": {},
   "outputs": [],
   "source": [
    "def solution(n, control):\n",
    "    for c in control:\n",
    "        if c == \"w\":\n",
    "            n += 1\n",
    "        elif c == \"s\":\n",
    "            n -= 1\n",
    "        elif c == \"d\":\n",
    "            n += 10\n",
    "        elif c == \"a\":\n",
    "            n -= 10\n",
    "    return n"
   ]
  },
  {
   "cell_type": "markdown",
   "metadata": {},
   "source": [
    "회고\n",
    "- 파이썬은 switch-case문 없음\n",
    "- 실행문 하나면 조건문과 같은 줄에 써도 됨"
   ]
  },
  {
   "cell_type": "markdown",
   "metadata": {},
   "source": [
    "[다른 사람 풀이](https://school.programmers.co.kr/learn/courses/30/lessons/181926/solution_groups?language=python3)"
   ]
  },
  {
   "cell_type": "code",
   "execution_count": null,
   "metadata": {},
   "outputs": [],
   "source": [
    "def solution(n, control):\n",
    "    key = dict(zip(['w','s','d','a'], [1,-1,10,-10]))\n",
    "    return n + sum([key[c] for c in control])"
   ]
  },
  {
   "cell_type": "code",
   "execution_count": null,
   "metadata": {},
   "outputs": [],
   "source": [
    "def solution(n, control):\n",
    "    return (n + (control.count('w') - control.count('s'))\n",
    "            + 10 * (control.count('d') - control.count('a')))"
   ]
  },
  {
   "cell_type": "markdown",
   "metadata": {},
   "source": [
    "- 줄바꿈 방법 1 괄호로 감싸기 2 부호 바로 뒤를 백슬래시로 끊기"
   ]
  },
  {
   "cell_type": "markdown",
   "metadata": {},
   "source": [
    "### [수열과 구간 쿼리 3](https://school.programmers.co.kr/learn/courses/30/lessons/181924)"
   ]
  },
  {
   "cell_type": "code",
   "execution_count": null,
   "metadata": {},
   "outputs": [],
   "source": [
    "def solution(arr, queries):\n",
    "    def swap(q):\n",
    "        i, j = q\n",
    "        arr[i], arr[j] = arr[j], arr[i]\n",
    "        return arr\n",
    "    for q in queries:\n",
    "        swap(q)\n",
    "    return arr"
   ]
  },
  {
   "cell_type": "markdown",
   "metadata": {},
   "source": [
    "회고\n",
    "- 함수 내부에 함수 선언 및 사용 가능\n",
    "- 함수 사용 안해도 됨\n",
    "- 언패킹\n",
    "- temp 변수 필요 없이 다중 할당 사용"
   ]
  },
  {
   "cell_type": "markdown",
   "metadata": {},
   "source": [
    "[다른 사람 풀이](https://school.programmers.co.kr/learn/courses/30/lessons/181924/solution_groups?language=python3)"
   ]
  },
  {
   "cell_type": "markdown",
   "metadata": {},
   "source": [
    "### [수열과 구간 쿼리 2](https://school.programmers.co.kr/learn/courses/30/lessons/181923)"
   ]
  },
  {
   "cell_type": "code",
   "execution_count": null,
   "metadata": {},
   "outputs": [],
   "source": [
    "def solution(arr, queries):\n",
    "    result = []\n",
    "    for s, e, k in queries:\n",
    "        tmp = [x for x in arr[s:e + 1] if x > k]\n",
    "        result.append(min(tmp) if tmp else -1)\n",
    "    return result"
   ]
  },
  {
   "cell_type": "markdown",
   "metadata": {},
   "source": [
    "회고\n",
    "- 언패킹을 for문에서 바로 하기\n",
    "- append 내부에서도 if 적용 가능\n",
    "- 빈 배열은 0이므로 false - 존재 유무"
   ]
  },
  {
   "cell_type": "markdown",
   "metadata": {},
   "source": [
    "다른 사람 풀이\n",
    "\n",
    "[참고 풀이](https://school.programmers.co.kr/learn/courses/30/lessons/181923/solution_groups?language=python3)"
   ]
  },
  {
   "cell_type": "code",
   "execution_count": null,
   "metadata": {},
   "outputs": [],
   "source": [
    "def solution(arr, queries):\n",
    "    answer = []\n",
    "    for s, e, k in queries:\n",
    "        tmp = []\n",
    "        for x in arr[s : e + 1]:\n",
    "            if x > k:\n",
    "                tmp.append(x)\n",
    "        answer.append(-1 if not tmp else min(tmp))\n",
    "    return answer"
   ]
  },
  {
   "cell_type": "markdown",
   "metadata": {},
   "source": [
    "[풀이 2](https://bigcat5312.tistory.com/66)"
   ]
  },
  {
   "cell_type": "code",
   "execution_count": null,
   "metadata": {},
   "outputs": [],
   "source": [
    "def solution(arr, queries):\n",
    "    answer =[]\n",
    "    for a in queries:\n",
    "        b = arr[a[0] : a[1] + 1]\n",
    "        b.sort()\n",
    "        for i in b:\n",
    "            if i> a[2]:\n",
    "                answer.append(i)\n",
    "                break\n",
    "            elif i == b[-1]:\n",
    "                answer.append(-1)\n",
    "    return answer"
   ]
  },
  {
   "cell_type": "markdown",
   "metadata": {},
   "source": [
    "[풀이 3](https://sefact.github.io/posts/181923/)"
   ]
  },
  {
   "cell_type": "code",
   "execution_count": null,
   "metadata": {},
   "outputs": [],
   "source": [
    "def solution(arr, queries):\n",
    "    answer = []\n",
    "    tmp = []\n",
    "    \n",
    "    for s, e, k in queries:\n",
    "        tmp = list(filter(lambda x: x > k, sorted(arr[s:e+1])))\n",
    "        if len(tmp) > 0:\n",
    "            answer.append(tmp[0])\n",
    "        else:\n",
    "            answer.append(-1)\n",
    "    \n",
    "    return answer"
   ]
  },
  {
   "cell_type": "markdown",
   "metadata": {},
   "source": [
    "- 리스트 컴프리헨션-for, if 대신 filter, lambda로 구현\n",
    "- min() 대신 sort()로 구현"
   ]
  },
  {
   "cell_type": "markdown",
   "metadata": {},
   "source": [
    "### [수열과 구간 쿼리 4](https://school.programmers.co.kr/learn/courses/30/lessons/181922)"
   ]
  },
  {
   "cell_type": "code",
   "execution_count": null,
   "metadata": {},
   "outputs": [],
   "source": [
    "def solution(arr, queries):\n",
    "    for s, e, k in queries:\n",
    "        for i in range(s, e + 1):\n",
    "            if k != 0 and not(i % k):\n",
    "                arr[i] = arr[i] + 1\n",
    "    return arr"
   ]
  },
  {
   "cell_type": "markdown",
   "metadata": {},
   "source": [
    "회고\n",
    "- 파이썬은 !가 아닌 not\n",
    "- k = 0이면 예외가 발생한다고 함 - if문에 k != 0 and 추가해줘야"
   ]
  },
  {
   "cell_type": "markdown",
   "metadata": {},
   "source": [
    "[다른 사람 풀이](https://school.programmers.co.kr/learn/courses/30/lessons/181922/solution_groups?language=python3)"
   ]
  },
  {
   "cell_type": "markdown",
   "metadata": {},
   "source": [
    "### [배열 만들기 2](https://school.programmers.co.kr/learn/courses/30/lessons/181921)"
   ]
  },
  {
   "cell_type": "code",
   "execution_count": null,
   "metadata": {},
   "outputs": [],
   "source": [
    "def solution(l, r):\n",
    "    answer = [i for i in range(l, r + 1) \n",
    "              if all(c == '0' or c == '5' for c in str(i))]\n",
    "    return answer if answer else [-1]"
   ]
  },
  {
   "cell_type": "markdown",
   "metadata": {},
   "source": [
    "회고\n",
    "- 파이썬은 string()이 아니라 str()\n",
    "- 다중 리스트 컴프리헨션: 지피티가 권해줬는데 구글링해보니 표현식 하나만 쓰길 권장한다고들 함\n",
    "- all()은 for문에 대한 모두 조건을 만족할 때: 단순 and나 or와는 다름\n",
    "- answer가 빈 경우 return문에서 조건문 사용\n",
    "- 반환 형식 잘 보기"
   ]
  },
  {
   "cell_type": "markdown",
   "metadata": {},
   "source": [
    "[다른 사람 풀이](https://school.programmers.co.kr/learn/courses/30/lessons/181921/solution_groups?language=python3)"
   ]
  },
  {
   "cell_type": "code",
   "execution_count": null,
   "metadata": {},
   "outputs": [],
   "source": [
    "def solution(l, r):\n",
    "    answer = []\n",
    "    for num in range(l, r + 1):\n",
    "        if not set(str(num)) - set(['0', '5']):\n",
    "            answer.append(num)\n",
    "    return answer if answer else [-1]"
   ]
  },
  {
   "cell_type": "markdown",
   "metadata": {},
   "source": [
    "문자열의 각 자릿수를 세트로 만든 후, 이 세트에서 ['0', '5'] 세트를 뺀 결과가 비어있는지를 확인하는 조건문"
   ]
  },
  {
   "cell_type": "code",
   "execution_count": 1,
   "metadata": {},
   "outputs": [
    {
     "name": "stdout",
     "output_type": "stream",
     "text": [
      "{'0', '3', '1'}\n"
     ]
    }
   ],
   "source": [
    "num = 301\n",
    "print(set(str(num)))"
   ]
  },
  {
   "cell_type": "code",
   "execution_count": 2,
   "metadata": {},
   "outputs": [
    {
     "data": {
      "text/plain": [
       "{'0', '5'}"
      ]
     },
     "execution_count": 2,
     "metadata": {},
     "output_type": "execute_result"
    }
   ],
   "source": [
    "set(['0', '5'])"
   ]
  },
  {
   "cell_type": "markdown",
   "metadata": {},
   "source": [
    "### [콜라츠 수열 만들기](https://school.programmers.co.kr/learn/courses/30/lessons/181919)"
   ]
  },
  {
   "cell_type": "code",
   "execution_count": null,
   "metadata": {},
   "outputs": [],
   "source": [
    "def solution(n):\n",
    "    answer = [n]\n",
    "    while(n != 1):\n",
    "        if n % 2:\n",
    "            n = 3 * n + 1\n",
    "        else:\n",
    "            n = n / 2\n",
    "        answer.append(n)\n",
    "    return answer"
   ]
  },
  {
   "cell_type": "markdown",
   "metadata": {},
   "source": [
    "회고\n",
    "- n //= 2\n",
    "- 처음에 n 넣고 시작\n",
    "- append를 조건 실행문에 넣는 방법"
   ]
  },
  {
   "cell_type": "markdown",
   "metadata": {},
   "source": [
    "### [배열 만들기 4](https://school.programmers.co.kr/learn/courses/30/lessons/181918)"
   ]
  },
  {
   "cell_type": "code",
   "execution_count": null,
   "metadata": {},
   "outputs": [],
   "source": [
    "def solution(arr):\n",
    "    i = 0\n",
    "    stk = []\n",
    "    while i < len(arr):\n",
    "        if not stk or stk[-1] < arr[i]:\n",
    "            stk.append(arr[i])\n",
    "            i += 1\n",
    "        else:\n",
    "            stk.pop()\n",
    "\n",
    "    return stk"
   ]
  },
  {
   "cell_type": "markdown",
   "metadata": {},
   "source": [
    "회고\n",
    "- 마지막 인덱스는 -1\n",
    "- 같은 실행문이라면 elif가 아니라 or로\n",
    "- remove(값), pop(), del 배열[인덱스]"
   ]
  },
  {
   "cell_type": "markdown",
   "metadata": {},
   "source": [
    "[다른 사람 풀이](https://school.programmers.co.kr/learn/courses/30/lessons/181918/solution_groups?language=python3)"
   ]
  },
  {
   "cell_type": "code",
   "execution_count": null,
   "metadata": {},
   "outputs": [],
   "source": [
    "def solution(arr):\n",
    "    stk = []\n",
    "    for i in range(len(arr)):\n",
    "        while stk and stk[-1] >= arr[i]:\n",
    "            stk.pop()\n",
    "        stk.append(arr[i])\n",
    "    return stk"
   ]
  },
  {
   "cell_type": "markdown",
   "metadata": {},
   "source": [
    "### [주사위 게임 3](https://school.programmers.co.kr/learn/courses/30/lessons/181916)"
   ]
  },
  {
   "cell_type": "code",
   "execution_count": null,
   "metadata": {},
   "outputs": [],
   "source": [
    "def solution(a, b, c, d):\n",
    "    arr = sorted([a, b, c, d])\n",
    "    \n",
    "    if len(set(arr)) == 1:\n",
    "        return 1111 * arr[0]\n",
    "    \n",
    "    elif len(set(arr)) == 2 and (arr[0] == arr[1] and arr[2] == arr[3]):\n",
    "        return (arr[1] + arr[2]) * abs(arr[1] - arr[2])\n",
    "    elif len(set(arr)) == 2:\n",
    "        if arr[0] < arr[1]:\n",
    "            return (10 * arr[1] + arr[0]) ** 2\n",
    "        elif arr[2] < arr[3]:\n",
    "            return (10 * arr[2] + arr[3]) ** 2\n",
    "        \n",
    "    elif len(set(arr)) == 3:\n",
    "        if arr[0] == arr[1]:\n",
    "            return arr[2] * arr[3]\n",
    "        elif arr[1] == arr[2]:\n",
    "            return arr[0] * arr[3]\n",
    "        elif arr[2] == arr[3]:\n",
    "            return arr[0] * arr[1]\n",
    "        elif arr[0] == arr[3]:\n",
    "            return arr[1] * arr[2]\n",
    "        \n",
    "    elif len(set(arr)) == 4:\n",
    "        return arr[0]"
   ]
  },
  {
   "cell_type": "markdown",
   "metadata": {},
   "source": [
    "회고\n",
    "- 제곱은 **\n",
    "- sort아니고 sorted\n",
    "- 노가다, 하드코딩으로라도 맞추는 연습 필요\n",
    "- and는 논리적인 조건 연산, &는 정수형 데이터의 비트 연산\n",
    "- 인덱스 0부터 시작 조심"
   ]
  },
  {
   "cell_type": "markdown",
   "metadata": {},
   "source": [
    "[다른 사람 풀이](https://school.programmers.co.kr/learn/courses/30/lessons/181916/solution_groups?language=python3)"
   ]
  },
  {
   "cell_type": "code",
   "execution_count": null,
   "metadata": {},
   "outputs": [],
   "source": [
    "def solution(a, b, c, d):\n",
    "    l = [a,b,c,d]\n",
    "    c = [l.count(x) for x in l]\n",
    "    if max(c) == 4:\n",
    "        return 1111*a\n",
    "    elif max(c) == 3:\n",
    "        return (10*l[c.index(3)]+l[c.index(1)])**2\n",
    "    elif max(c) == 2:\n",
    "        if min(c) == 1:\n",
    "            return eval('*'.join([str(l[i]) for i, x in enumerate(c) if x == 1]))\n",
    "        else:\n",
    "            return (max(l) + min(l)) * abs(max(l) - min(l))\n",
    "    else:\n",
    "        return min(l)"
   ]
  },
  {
   "cell_type": "code",
   "execution_count": null,
   "metadata": {},
   "outputs": [],
   "source": [
    "def solution(a, b, c, d):\n",
    "    nums = [a, b, c, d]\n",
    "    counts = [nums.count(i) for i in nums]\n",
    "    if max(counts) == 4:\n",
    "        return a * 1111\n",
    "    elif max(counts) == 3:\n",
    "        p = nums[counts.index(3)]\n",
    "        q = nums[counts.index(1)]\n",
    "        return (10 * p + q) ** 2\n",
    "    elif max(counts) == 2:\n",
    "        if min(counts) == 2:\n",
    "            return (a + c) * abs(a - c) if a == b else (a + b) * abs(a - b)\n",
    "        else:\n",
    "            p = nums[counts.index(2)]\n",
    "            return (a * b * c * d) / p**2\n",
    "    else:\n",
    "        return min(nums)"
   ]
  },
  {
   "cell_type": "markdown",
   "metadata": {},
   "source": [
    "- 계수를 사용할 거니까 계수 배열인 c, 혹은 계수 p, q 생성\n",
    "- count(개수 셀 값)"
   ]
  },
  {
   "cell_type": "markdown",
   "metadata": {},
   "source": [
    "### [문자열 여러 번 뒤집기](https://school.programmers.co.kr/learn/courses/30/lessons/181913)"
   ]
  },
  {
   "cell_type": "code",
   "execution_count": null,
   "metadata": {},
   "outputs": [],
   "source": [
    "def solution(my_string, queries):\n",
    "    result = list(my_string)\n",
    "    for q in queries:\n",
    "        s, e = q\n",
    "        result[s: e + 1] = reversed(result[s: e + 1])\n",
    "    return ''.join(result)"
   ]
  },
  {
   "cell_type": "markdown",
   "metadata": {},
   "source": [
    "회고\n",
    "- 처음에 my_string[s: e + 1] = my_string[s: e + 1: -1]라고 함\n",
    "- my_string[s: e + 1: -1]말고 my_string[s: e + 1][::-1]가 원하는 부분을 뒤집는것\n",
    "- 파이썬은 문자열이 배열이 아니고 하나의 값\n",
    "    1. 리스트로 처리 - list(my_string) => ['r', 'e', ...] & ''.join() 사용\n",
    "    2. 재정의 - my_string[:s] + my_string[s: e + 1][::-1] + my_string[e + 1:]"
   ]
  },
  {
   "cell_type": "markdown",
   "metadata": {},
   "source": [
    "[다른 사람 풀이](https://school.programmers.co.kr/learn/courses/30/lessons/181913/solution_groups?language=python3)"
   ]
  },
  {
   "cell_type": "code",
   "execution_count": null,
   "metadata": {},
   "outputs": [],
   "source": [
    "def solution(my_string, queries):\n",
    "    answer=list(my_string)\n",
    "    for s,e in queries:\n",
    "        answer[s:e+1]=answer[s:e+1][::-1]\n",
    "    return ''.join(answer)"
   ]
  },
  {
   "cell_type": "code",
   "execution_count": null,
   "metadata": {},
   "outputs": [],
   "source": [
    "def solution(my_string, queries):\n",
    "    for (s, e) in queries:\n",
    "        my_string = my_string[:s] + my_string[s:e+1][::-1] + my_string[e+1:]\n",
    "    return my_string"
   ]
  }
 ],
 "metadata": {
  "kernelspec": {
   "display_name": "Python 3 (ipykernel)",
   "language": "python",
   "name": "python3"
  },
  "language_info": {
   "codemirror_mode": {
    "name": "ipython",
    "version": 3
   },
   "file_extension": ".py",
   "mimetype": "text/x-python",
   "name": "python",
   "nbconvert_exporter": "python",
   "pygments_lexer": "ipython3",
   "version": "3.11.4"
  }
 },
 "nbformat": 4,
 "nbformat_minor": 5
}
