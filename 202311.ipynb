{
 "cells": [
  {
   "cell_type": "markdown",
   "metadata": {},
   "source": [
    "# 프로그래머스\n",
    "2023.11월"
   ]
  },
  {
   "cell_type": "markdown",
   "metadata": {},
   "source": [
    "## [Lv. 0](https://school.programmers.co.kr/learn/challenges?order=recent&levels=0&languages=python3)"
   ]
  },
  {
   "cell_type": "markdown",
   "metadata": {},
   "source": [
    "### [공배수](https://school.programmers.co.kr/learn/courses/30/lessons/181936)"
   ]
  },
  {
   "cell_type": "code",
   "execution_count": null,
   "id": "7e917b4b",
   "metadata": {},
   "outputs": [],
   "source": [
    "def solution(number, n, m):\n",
    "    if (number % n == 0) & (number % m == 0):\n",
    "        return 1\n",
    "    else:\n",
    "        return 0"
   ]
  },
  {
   "cell_type": "markdown",
   "metadata": {},
   "source": [
    "회고\n",
    "- else뒤  :\n",
    "- n만 조건확인했음"
   ]
  },
  {
   "cell_type": "markdown",
   "metadata": {},
   "source": [
    "[다른 사람 풀이](https://school.programmers.co.kr/learn/courses/30/lessons/181936/solution_groups?language=python3)"
   ]
  },
  {
   "cell_type": "code",
   "execution_count": null,
   "metadata": {},
   "outputs": [],
   "source": [
    "def solution(number, n, m):\n",
    "    return 1 if number % n== 0 and number % m == 0 else 0"
   ]
  },
  {
   "cell_type": "code",
   "execution_count": null,
   "metadata": {},
   "outputs": [],
   "source": [
    "def solution(number, n, m):\n",
    "    return int(number % n == 0 and number % m == 0)"
   ]
  },
  {
   "cell_type": "markdown",
   "metadata": {},
   "source": [
    "### [코드 처리하기](https://school.programmers.co.kr/learn/courses/30/lessons/181932)"
   ]
  },
  {
   "cell_type": "code",
   "execution_count": null,
   "metadata": {},
   "outputs": [],
   "source": [
    "def solution(code):\n",
    "    ret = ''\n",
    "    mode = 0\n",
    "    for idx in range(len(code)):\n",
    "        if mode == 0 : \n",
    "            if code[idx] != '1' and idx % 2 == 0:\n",
    "                ret += code[idx]\n",
    "            elif code[idx] == '1':\n",
    "                mode = 1\n",
    "        else :\n",
    "            if code[idx] != '1' and idx % 2 == 1 :\n",
    "                ret += code[idx]\n",
    "            elif code[idx] == '1':\n",
    "                mode = 0\n",
    "    if ret == '':\n",
    "        return 'EMPTY'\n",
    "    return ret"
   ]
  },
  {
   "cell_type": "markdown",
   "metadata": {},
   "source": [
    "회고\n",
    "- 파이썬은 \"\"보다 ''권장\n",
    "- &는 논리연산자이고 일반 연산자는 and\n",
    "- range(0, len(code) - 1)라고 했었는데 -1 필요 없음, 0부터면 시작 범위 안써도 됨"
   ]
  },
  {
   "cell_type": "markdown",
   "metadata": {},
   "source": [
    "[다른 사람 풀이 1](https://velog.io/@yule/Programmers-Level-0-%EC%BD%94%EB%93%9C-%EC%B2%98%EB%A6%AC%ED%95%98%EA%B8%B0)"
   ]
  },
  {
   "cell_type": "code",
   "execution_count": null,
   "metadata": {},
   "outputs": [],
   "source": [
    "def solution(code):\n",
    "    answer = ''\n",
    "\n",
    "    mode = 0\n",
    "    for i in range(len(code)):\n",
    "        if code[i] == '1':\n",
    "            mode ^= 1\n",
    "        else:\n",
    "            if i % 2 == mode:\n",
    "                answer += code[i]\n",
    "\n",
    "    return answer if answer else 'EMPTY'"
   ]
  },
  {
   "cell_type": "markdown",
   "metadata": {},
   "source": [
    "[다른 사람 풀이 2](https://school.programmers.co.kr/learn/courses/30/lessons/181932/solution_groups?language=python3)"
   ]
  },
  {
   "cell_type": "code",
   "execution_count": null,
   "metadata": {},
   "outputs": [],
   "source": [
    "def solution(code):\n",
    "    return \"\".join(code.split(\"1\"))[::2] or \"EMPTY\""
   ]
  },
  {
   "cell_type": "markdown",
   "metadata": {},
   "source": [
    "### [수 조작하기 1](https://school.programmers.co.kr/learn/courses/30/lessons/181926)"
   ]
  },
  {
   "cell_type": "code",
   "execution_count": null,
   "metadata": {},
   "outputs": [],
   "source": [
    "def solution(n, control):\n",
    "    for c in control:\n",
    "        if c == \"w\":\n",
    "            n += 1\n",
    "        elif c == \"s\":\n",
    "            n -= 1\n",
    "        elif c == \"d\":\n",
    "            n += 10\n",
    "        elif c == \"a\":\n",
    "            n -= 10\n",
    "    return n"
   ]
  },
  {
   "cell_type": "markdown",
   "metadata": {},
   "source": [
    "회고\n",
    "- 파이썬은 switch-case문 없음\n",
    "- 실행문 하나면 조건문과 같은 줄에 써도 됨"
   ]
  },
  {
   "cell_type": "markdown",
   "metadata": {},
   "source": [
    "[다른 사람 풀이](https://school.programmers.co.kr/learn/courses/30/lessons/181926/solution_groups?language=python3)"
   ]
  },
  {
   "cell_type": "code",
   "execution_count": null,
   "metadata": {},
   "outputs": [],
   "source": [
    "def solution(n, control):\n",
    "    key = dict(zip(['w','s','d','a'], [1,-1,10,-10]))\n",
    "    return n + sum([key[c] for c in control])"
   ]
  },
  {
   "cell_type": "code",
   "execution_count": null,
   "metadata": {},
   "outputs": [],
   "source": [
    "def solution(n, control):\n",
    "    return (n + (control.count('w') - control.count('s'))\n",
    "            + 10 * (control.count('d') - control.count('a')))"
   ]
  },
  {
   "cell_type": "markdown",
   "metadata": {},
   "source": [
    "- 줄바꿈 방법 1 괄호로 감싸기 2 부호 바로 뒤를 백슬래시로 끊기"
   ]
  },
  {
   "cell_type": "markdown",
   "metadata": {},
   "source": [
    "### [수열과 구간 쿼리 3](https://school.programmers.co.kr/learn/courses/30/lessons/181924)"
   ]
  },
  {
   "cell_type": "code",
   "execution_count": null,
   "metadata": {},
   "outputs": [],
   "source": [
    "def solution(arr, queries):\n",
    "    def swap(q):\n",
    "        i, j = q\n",
    "        arr[i], arr[j] = arr[j], arr[i]\n",
    "        return arr\n",
    "    for q in queries:\n",
    "        swap(q)\n",
    "    return arr"
   ]
  },
  {
   "cell_type": "markdown",
   "metadata": {},
   "source": [
    "회고\n",
    "- 함수 내부에 함수 선언 및 사용 가능\n",
    "- 함수 사용 안해도 됨\n",
    "- 언패킹\n",
    "- temp 변수 필요 없이 다중 할당 사용"
   ]
  },
  {
   "cell_type": "markdown",
   "metadata": {},
   "source": [
    "[다른 사람 풀이](https://school.programmers.co.kr/learn/courses/30/lessons/181924/solution_groups?language=python3)"
   ]
  }
 ],
 "metadata": {
  "kernelspec": {
   "display_name": "Python 3 (ipykernel)",
   "language": "python",
   "name": "python3"
  },
  "language_info": {
   "codemirror_mode": {
    "name": "ipython",
    "version": 3
   },
   "file_extension": ".py",
   "mimetype": "text/x-python",
   "name": "python",
   "nbconvert_exporter": "python",
   "pygments_lexer": "ipython3",
   "version": "3.11.4"
  }
 },
 "nbformat": 4,
 "nbformat_minor": 5
}
