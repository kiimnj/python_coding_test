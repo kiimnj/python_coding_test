{
 "cells": [
  {
   "cell_type": "markdown",
   "metadata": {},
   "source": [
    "# 코드업 기초 100제 파이썬\n",
    "[노션 필기](https://www.notion.so/danmuzii/100-b7e3f617dada4ae3a47daad28266adc7?pvs=4)"
   ]
  },
  {
   "cell_type": "markdown",
   "metadata": {},
   "source": [
    "## [기초-출력]"
   ]
  },
  {
   "cell_type": "markdown",
   "metadata": {},
   "source": [
    "### [6001 출력하기01](https://www.codeup.kr/problem.php?id=6001)"
   ]
  },
  {
   "cell_type": "code",
   "execution_count": null,
   "metadata": {},
   "outputs": [],
   "source": [
    "print(\"Hello\")"
   ]
  },
  {
   "cell_type": "markdown",
   "metadata": {},
   "source": [
    "### [6002 출력하기02](https://www.codeup.kr/problem.php?id=6002)"
   ]
  },
  {
   "cell_type": "code",
   "execution_count": null,
   "metadata": {},
   "outputs": [],
   "source": [
    "print(\"Hello World\")"
   ]
  },
  {
   "cell_type": "markdown",
   "metadata": {},
   "source": [
    "### [6006 출력하기06](https://www.codeup.kr/problem.php?id=6006)"
   ]
  },
  {
   "cell_type": "code",
   "execution_count": null,
   "metadata": {},
   "outputs": [],
   "source": [
    "print(\"\\\"!@#$%^&*()'\")\n",
    "\n",
    "'''\n",
    "또는\n",
    "\n",
    "print('\"!@#$%^&*()\\'')\n",
    "'''"
   ]
  },
  {
   "cell_type": "markdown",
   "metadata": {},
   "source": [
    "### [6007 출력하기07](https://www.codeup.kr/problem.php?id=6007)"
   ]
  },
  {
   "cell_type": "code",
   "execution_count": null,
   "metadata": {},
   "outputs": [],
   "source": [
    "print(\"\\\"C:\\Download\\\\'hello'.py\\\"\")"
   ]
  },
  {
   "cell_type": "markdown",
   "metadata": {},
   "source": [
    "### [6008 출력하기08](https://www.codeup.kr/problem.php?id=6008)"
   ]
  },
  {
   "cell_type": "code",
   "execution_count": null,
   "metadata": {},
   "outputs": [],
   "source": [
    "print('print(\\\"Hello\\\\nWorld\\\")')"
   ]
  },
  {
   "cell_type": "markdown",
   "metadata": {},
   "source": [
    "### [6009 문자 1개 입력받아 그대로 출력하기](https://www.codeup.kr/problem.php?id=6009)"
   ]
  },
  {
   "cell_type": "code",
   "execution_count": null,
   "metadata": {},
   "outputs": [],
   "source": [
    "a = input()\n",
    "print(a)"
   ]
  },
  {
   "cell_type": "markdown",
   "metadata": {},
   "source": [
    "### [6010 정수 1개 입력받아 int로 변환하여 출력하기](https://www.codeup.kr/problem.php?id=6010)"
   ]
  },
  {
   "cell_type": "code",
   "execution_count": null,
   "metadata": {},
   "outputs": [],
   "source": [
    "a = int(input())\n",
    "print(a)"
   ]
  },
  {
   "cell_type": "markdown",
   "metadata": {},
   "source": [
    "## [기초-입출력]"
   ]
  },
  {
   "cell_type": "markdown",
   "metadata": {},
   "source": [
    "### [6020 주민번호 입력받아 형태 바꿔 출력하기](https://www.codeup.kr/problem.php?id=6020)"
   ]
  },
  {
   "cell_type": "code",
   "execution_count": null,
   "metadata": {},
   "outputs": [],
   "source": [
    "a, b = input().split('-')\n",
    "print(a, b, sep='')"
   ]
  },
  {
   "cell_type": "markdown",
   "metadata": {},
   "source": [
    "### [6023 시분초 입력받아 분만 출력하기](https://www.codeup.kr/problem.php?id=6023)"
   ]
  },
  {
   "cell_type": "code",
   "execution_count": null,
   "metadata": {},
   "outputs": [],
   "source": [
    "h, m, s = input().split(':')\n",
    "print(m)\n"
   ]
  },
  {
   "cell_type": "markdown",
   "metadata": {},
   "source": [
    "## [기초-산술연산]"
   ]
  },
  {
   "cell_type": "markdown",
   "metadata": {},
   "source": [
    "### [6033 문자 1개 입력받아 다음 문자 출력하기](https://www.codeup.kr/problem.php?id=6033)"
   ]
  },
  {
   "cell_type": "code",
   "execution_count": null,
   "metadata": {},
   "outputs": [],
   "source": [
    "n = ord(input())\n",
    "print(chr(n+1))"
   ]
  },
  {
   "cell_type": "markdown",
   "metadata": {},
   "source": [
    "### [6043 실수 2개 입력받아 나눈 결과 계산하기](https://www.codeup.kr/problem.php?id=6043)"
   ]
  },
  {
   "cell_type": "code",
   "execution_count": null,
   "metadata": {},
   "outputs": [],
   "source": [
    "a, b = input().split()\n",
    "a = float(a)\n",
    "b = float(b)\n",
    "print( format(a/b, \".3f\") )"
   ]
  },
  {
   "cell_type": "markdown",
   "metadata": {},
   "source": [
    "## [기초-종합]"
   ]
  },
  {
   "cell_type": "markdown",
   "metadata": {},
   "source": [
    "### [6077 짝수 합 구하기](https://www.codeup.kr/problem.php?id=6077)"
   ]
  },
  {
   "cell_type": "code",
   "execution_count": null,
   "metadata": {},
   "outputs": [],
   "source": [
    "n = int(input())\n",
    "s=0\n",
    "for i in range(0, n+1, 2) :\n",
    "    s+=i\n",
    "    \n",
    "print(s)"
   ]
  },
  {
   "cell_type": "markdown",
   "metadata": {},
   "source": [
    "### [6078 원하는 문자가 입력될 때까지 반복 출력하기](https://www.codeup.kr/problem.php?id=6078)"
   ]
  },
  {
   "cell_type": "code",
   "execution_count": null,
   "metadata": {},
   "outputs": [],
   "source": [
    "c = 0\n",
    "while c != 'q':\n",
    "    c = input()\n",
    "    print(c)"
   ]
  },
  {
   "cell_type": "code",
   "execution_count": null,
   "metadata": {},
   "outputs": [],
   "source": [
    "c = input()\n",
    "print(c)\n",
    "while c != 'q':\n",
    "    c = input()\n",
    "    print(c)"
   ]
  },
  {
   "cell_type": "code",
   "execution_count": null,
   "metadata": {},
   "outputs": [],
   "source": [
    "c = input()\n",
    "if c == 'q':\n",
    "    print(c)\n",
    "else:\n",
    "    print(c)\n",
    "    while c != 'q':\n",
    "        c = input()\n",
    "        print(c)"
   ]
  },
  {
   "cell_type": "markdown",
   "metadata": {},
   "source": [
    "### [6079 언제까지 더해야 할까?](https://www.codeup.kr/problem.php?id=6079)"
   ]
  },
  {
   "cell_type": "code",
   "execution_count": null,
   "metadata": {},
   "outputs": [],
   "source": [
    "n = int(input())\n",
    "s = 0\n",
    "i = 0\n",
    "while s < n :\n",
    "  i = i + 1\n",
    "  s = s + i\n",
    "  \n",
    "print(i)"
   ]
  },
  {
   "cell_type": "markdown",
   "metadata": {},
   "source": [
    "### [6080 주사위 2개 던지기](https://www.codeup.kr/problem.php?id=6080)"
   ]
  },
  {
   "cell_type": "code",
   "execution_count": null,
   "metadata": {},
   "outputs": [],
   "source": [
    "n, m = input().split()\n",
    "n = int(n)\n",
    "m = int(m)\n",
    "for i in range(1, n+1):\n",
    "    for j in range(1, m+1):\n",
    "        print(i, j)"
   ]
  },
  {
   "cell_type": "markdown",
   "metadata": {},
   "source": [
    "### [6081 16진수 구구단 출력하기](https://www.codeup.kr/problem.php?id=6081)"
   ]
  },
  {
   "cell_type": "code",
   "execution_count": null,
   "metadata": {},
   "outputs": [],
   "source": [
    "n = input() \n",
    "n = int(n,16)\n",
    "for i in range(1, 16):\n",
    "    print('%X'%n, '*%X'%i, '=%X'%(n*i), sep='')"
   ]
  },
  {
   "cell_type": "markdown",
   "metadata": {},
   "source": [
    "### [6082 3 6 9 게임의 왕이 되자](https://www.codeup.kr/problem.php?id=6082)"
   ]
  },
  {
   "cell_type": "code",
   "execution_count": null,
   "metadata": {},
   "outputs": [],
   "source": [
    "n = int(input())\n",
    "for i in range(1, n+1) :\n",
    "    if i%10==3:\n",
    "        print(\"X\", end=' ')\n",
    "    elif i%10==6:\n",
    "        print(\"X\", end=' ')\n",
    "    elif i%10==9:\n",
    "        print(\"X\", end=' ')\n",
    "    else:\n",
    "        print(i, end=' ')"
   ]
  },
  {
   "cell_type": "markdown",
   "metadata": {},
   "source": [
    "### [6083 빛 섞어 색 만들기](https://www.codeup.kr/problem.php?id=6083)"
   ]
  },
  {
   "cell_type": "code",
   "execution_count": null,
   "metadata": {},
   "outputs": [],
   "source": [
    "r, g, b = map(int, input().split())\n",
    "n = 0\n",
    "for i in range(r):\n",
    "    for j in range(g):\n",
    "        for k in range(b):\n",
    "            print(i, j ,k)\n",
    "            n +=1\n",
    "            \n",
    "print(n)"
   ]
  },
  {
   "cell_type": "markdown",
   "metadata": {},
   "source": [
    "### [6084 소리 파일 저장용량 계산하기](https://www.codeup.kr/problem.php?id=6084)"
   ]
  },
  {
   "cell_type": "code",
   "execution_count": null,
   "metadata": {},
   "outputs": [],
   "source": [
    "h, b, c, s = map(int, input().split())\n",
    "print(format(h*b*c*s/8/1024/1024, '.1f'),'MB')"
   ]
  },
  {
   "cell_type": "markdown",
   "metadata": {},
   "source": [
    "### [6085 그림 파일 저장용량 계산하기](https://www.codeup.kr/problem.php?id=6085)"
   ]
  },
  {
   "cell_type": "code",
   "execution_count": null,
   "metadata": {},
   "outputs": [],
   "source": [
    "w, h, b = map(int, input().split())\n",
    "print(format(w*h*b/8/1024/1024, '.2f'),'MB')"
   ]
  },
  {
   "cell_type": "markdown",
   "metadata": {},
   "source": [
    "### [6086 거기까지! 이제 그만~](https://www.codeup.kr/problem.php?id=6086)"
   ]
  },
  {
   "cell_type": "code",
   "execution_count": null,
   "metadata": {},
   "outputs": [],
   "source": [
    "n = int(input())\n",
    "i = 0\n",
    "s = 0\n",
    "while s < n:\n",
    "    i += 1\n",
    "    s += i\n",
    "    \n",
    "print(s)"
   ]
  },
  {
   "cell_type": "code",
   "execution_count": null,
   "metadata": {},
   "outputs": [],
   "source": [
    "n = int(input())\n",
    "c = 0\n",
    "s = 0\n",
    "while True :\n",
    "  s += c\n",
    "  c += 1\n",
    "  if s>=n :\n",
    "    break\n",
    "\n",
    "print(s)"
   ]
  },
  {
   "cell_type": "markdown",
   "metadata": {},
   "source": [
    "### [6087 3의 배수는 통과](https://www.codeup.kr/problem.php?id=6087)"
   ]
  },
  {
   "cell_type": "code",
   "execution_count": null,
   "metadata": {},
   "outputs": [],
   "source": [
    "n = int(input())\n",
    "for i in range(1, n+1) :\n",
    "  if i%3==0 :\n",
    "    continue\n",
    "  print(i, end=' ')"
   ]
  },
  {
   "cell_type": "markdown",
   "metadata": {},
   "source": [
    "### [6088 수 나열하기1](https://www.codeup.kr/problem.php?id=6088)"
   ]
  },
  {
   "cell_type": "code",
   "execution_count": null,
   "metadata": {},
   "outputs": [],
   "source": [
    "a, d, n = map(int, input().split())\n",
    "print(a+d*(n-1))"
   ]
  },
  {
   "cell_type": "markdown",
   "metadata": {},
   "source": [
    "### [6089 수 나열하기2](https://www.codeup.kr/problem.php?id=6089)"
   ]
  },
  {
   "cell_type": "code",
   "execution_count": null,
   "metadata": {},
   "outputs": [],
   "source": [
    "a, r, n = map(int, input().split())\n",
    "print(a*(r**(n-1)))"
   ]
  },
  {
   "cell_type": "markdown",
   "metadata": {},
   "source": [
    "### [6090 수 나열하기3](https://www.codeup.kr/problem.php?id=6090)"
   ]
  },
  {
   "cell_type": "code",
   "execution_count": null,
   "metadata": {},
   "outputs": [],
   "source": [
    "a, m, d, n = map(int, input().split())\n",
    "# print(a + d*(n-1) + a*m**(n-1))\n",
    "for i in range(n-1):\n",
    "    a = a*m + d\n",
    "\n",
    "print(a)"
   ]
  },
  {
   "cell_type": "markdown",
   "metadata": {},
   "source": [
    "### [6091 함께 문제 푸는 날](https://www.codeup.kr/problem.php?id=6091)"
   ]
  },
  {
   "cell_type": "code",
   "execution_count": null,
   "metadata": {},
   "outputs": [],
   "source": [
    "a, b, c = map(int, input().split())\n",
    "d = 1\n",
    "while d%a!=0 or d%b!=0 or d%c!=0 :\n",
    "  d += 1\n",
    "print(d)"
   ]
  },
  {
   "cell_type": "markdown",
   "metadata": {},
   "source": [
    "### [6092 이상한 출석 번호 부르기1](https://www.codeup.kr/problem.php?id=6092)"
   ]
  },
  {
   "cell_type": "code",
   "execution_count": null,
   "metadata": {},
   "outputs": [],
   "source": [
    "n = int(input())\n",
    "a = list(map(int, input().split()))\n",
    "d = [0]*24\n",
    "\n",
    "for i in range(n):\n",
    "    d[a[i]] += 1\n",
    "\n",
    "for i in range(1, 24):\n",
    "    print(d[i], end=' ')"
   ]
  },
  {
   "cell_type": "markdown",
   "metadata": {},
   "source": [
    "### [6093 이상한 출석 번호 부르기2](https://www.codeup.kr/problem.php?id=6093)"
   ]
  },
  {
   "cell_type": "code",
   "execution_count": null,
   "metadata": {},
   "outputs": [],
   "source": [
    "n = int(input())\n",
    "a = list(map(int, input().split()))\n",
    "\n",
    "for i in range(n-1, -1, -1) :\n",
    "    print(a[i], end=' ')"
   ]
  },
  {
   "cell_type": "markdown",
   "metadata": {},
   "source": [
    "### [6094 이상한 출석 번호 부르기3](https://www.codeup.kr/problem.php?id=6094)"
   ]
  },
  {
   "cell_type": "code",
   "execution_count": null,
   "metadata": {},
   "outputs": [],
   "source": [
    "n = int(input())\n",
    "a = list(map(int, input().split()))\n",
    "\n",
    "print(min(a))"
   ]
  },
  {
   "cell_type": "markdown",
   "metadata": {},
   "source": [
    "### [6095 바둑판에 흰 돌 놓기](https://www.codeup.kr/problem.php?id=6095)"
   ]
  },
  {
   "cell_type": "code",
   "execution_count": null,
   "metadata": {},
   "outputs": [],
   "source": [
    "# d = [[0]*20]*20\n",
    "\n",
    "# n = int(input())\n",
    "# for i in range(n):\n",
    "#     x, y = map(int, input().split())\n",
    "#     d[x][y] = 1\n",
    "  \n",
    "# for i in range(1, 20):\n",
    "#     for j in range(1, 20):\n",
    "#         print(d[i][j], end=' ')\n",
    "#     print()\n",
    "    \n",
    "n = int(input())\n",
    "\n",
    "d = [[0 for i in range(20)] for j in range(20)]\n",
    "\n",
    "for i in range(n):\n",
    "    x,y = input().split()\n",
    "    d[int(x)][int(y)] = 1 \n",
    "    \n",
    "for i in range(1,20):\n",
    "    for j in range(1,20):\n",
    "        print(d[i][j], end=' ')\n",
    "    print()"
   ]
  },
  {
   "cell_type": "code",
   "execution_count": null,
   "metadata": {},
   "outputs": [],
   "source": [
    "# d = [[0]*20]*20\n",
    "d = [[0 for i in range(20)] for j in range(20)]\n",
    "\n",
    "n = int(input())\n",
    "for i in range(n):\n",
    "    x, y = map(int, input().split())\n",
    "    d[x][y] = 1\n",
    "  \n",
    "for i in range(1, 20):\n",
    "    for j in range(1, 20):\n",
    "        print(d[i][j], end=' ')\n",
    "    print()\n",
    "    \n",
    "# n = int(input())\n",
    "\n",
    "# d = [[0 for i in range(20)] for j in range(20)]\n",
    "\n",
    "# for i in range(n):\n",
    "#     x,y = input().split()\n",
    "#     d[int(x)][int(y)] = 1 \n",
    "    \n",
    "# for i in range(1,20):\n",
    "#     for j in range(1,20):\n",
    "#         print(d[i][j], end=' ')\n",
    "#     print()"
   ]
  },
  {
   "cell_type": "markdown",
   "metadata": {},
   "source": [
    "### [6096 바둑알 십자 뒤집기](https://www.codeup.kr/problem.php?id=6096)"
   ]
  },
  {
   "cell_type": "code",
   "execution_count": null,
   "metadata": {},
   "outputs": [],
   "source": [
    "# n = int(input())\n",
    "# d = [[0 for i in range(20)] for j in range(20)]\n",
    "# for i in range(19):\n",
    "#     b = input().split()\n",
    "#     for j in range(19):\n",
    "#         d[i+1][j+1] = int(b[j])\n",
    "\n",
    "# for i in range(n):\n",
    "#     x, y = map(int, input().split())\n",
    "#     for j in range(1, 20):\n",
    "#         if d[j][y]==0:\n",
    "#             d[j][y]=1\n",
    "#         else:\n",
    "#             d[j][y]=0\n",
    "\n",
    "#         if d[x][j]==0:\n",
    "#             d[x][j]=1\n",
    "#         else:\n",
    "#             d[x][j]=0\n",
    "\n",
    "# # print(d)\n",
    "# for i in range(1, 20):\n",
    "#     for j in range(1, 20):\n",
    "#         print(d[i][j], end=' ')\n",
    "#     print()\n",
    "    \n",
    "####\n",
    "\n",
    "a = []\n",
    "for i in range(20):\n",
    "    a.append([])\n",
    "    for j in range(20):\n",
    "        a[i].append(0)\n",
    "\n",
    "for i in range(19):\n",
    "    b = input().split()\n",
    "    for j in range(19):\n",
    "        a[i+1][j+1] = int(b[j])\n",
    "\n",
    "n = int(input())\n",
    "for i in range(n):\n",
    "    x,y = map(int,input().split())\n",
    "    for j in range(1,20):\n",
    "        if a[j][y] == 0: a[j][y] = 1\n",
    "        else: a[j][y] = 0\n",
    "        \n",
    "        if a[x][j] == 0: a[x][j] = 1\n",
    "        else: a[x][j] = 0\n",
    "\n",
    "for i in range(1,20):\n",
    "    for j in range(1,20):\n",
    "        print(a[i][j],end = ' ')\n",
    "    print()"
   ]
  },
  {
   "cell_type": "code",
   "execution_count": null,
   "metadata": {},
   "outputs": [],
   "source": [
    "d = [[0 for i in range(20)] for j in range(20)]\n",
    "for i in range(19):\n",
    "    b = input().split()\n",
    "    for j in range(19):\n",
    "        d[i+1][j+1] = int(b[j])\n",
    "\n",
    "n = int(input())\n",
    "\n",
    "for i in range(n):\n",
    "    x, y = map(int, input().split())\n",
    "    for j in range(1, 20):\n",
    "        if d[j][y]==0:\n",
    "            d[j][y]=1\n",
    "        else:\n",
    "            d[j][y]=0\n",
    "\n",
    "        if d[x][j]==0:\n",
    "            d[x][j]=1\n",
    "        else:\n",
    "            d[x][j]=0\n",
    "\n",
    "# print(d)\n",
    "for i in range(1, 20):\n",
    "    for j in range(1, 20):\n",
    "        print(d[i][j], end=' ')\n",
    "    print()\n",
    "    \n",
    "####\n",
    "\n",
    "# a = []\n",
    "# for i in range(20):\n",
    "#     a.append([])\n",
    "#     for j in range(20):\n",
    "#         a[i].append(0)\n",
    "\n",
    "# for i in range(19):\n",
    "#     b = input().split()\n",
    "#     for j in range(19):\n",
    "#         a[i+1][j+1] = int(b[j])\n",
    "\n",
    "# n = int(input())\n",
    "# for i in range(n):\n",
    "#     x,y = map(int,input().split())\n",
    "#     for j in range(1,20):\n",
    "#         if a[j][y] == 0: a[j][y] = 1\n",
    "#         else: a[j][y] = 0\n",
    "        \n",
    "#         if a[x][j] == 0: a[x][j] = 1\n",
    "#         else: a[x][j] = 0\n",
    "\n",
    "# for i in range(1,20):\n",
    "#     for j in range(1,20):\n",
    "#         print(a[i][j],end = ' ')\n",
    "#     print()"
   ]
  },
  {
   "cell_type": "markdown",
   "metadata": {},
   "source": [
    "### [6097 설탕과자 뽑기](https://www.codeup.kr/problem.php?id=6097)"
   ]
  },
  {
   "cell_type": "code",
   "execution_count": null,
   "metadata": {},
   "outputs": [],
   "source": [
    "# h, w = map(int, input().split())\n",
    "# a = [[0 for i in range(w)] for j in range(h)]\n",
    "\n",
    "# n = int(input())\n",
    "\n",
    "# for i in range(n):\n",
    "#     l, d, x, y = map(int, input().split())\n",
    "#     for j in range(l):\n",
    "#         if d == 0:\n",
    "#             a[x-1+l][y-1] = 1\n",
    "#         else:\n",
    "#             a[x-1][y-1+l] = 1\n",
    "\n",
    "# for i in range(h):\n",
    "#     for j in range(w):\n",
    "#         print(a[i][j], end=' ')\n",
    "#     print()\n",
    "\n",
    "h, w = map(int, input().split())\n",
    "n = int(input())\n",
    "\n",
    "zeros = [[0] * w for _ in range(h)]\n",
    "\n",
    "for i in range(n):\n",
    "    l, d, x, y = map(int, input().split())\n",
    "\n",
    "    for j in range(l):\n",
    "        if d == 0:\n",
    "            zeros[x-1][y-1+j] = 1\n",
    "        else:\n",
    "            zeros[x-1+j][y-1] = 1\n",
    "\n",
    "for i in range(h):\n",
    "    for j in range(w):\n",
    "        print(zeros[i][j], end=' ')\n",
    "    print(end='\\n')"
   ]
  },
  {
   "cell_type": "code",
   "execution_count": null,
   "metadata": {},
   "outputs": [],
   "source": [
    "h, w = map(int, input().split())\n",
    "a = [[0 for i in range(w)] for j in range(h)]\n",
    "\n",
    "n = int(input())\n",
    "\n",
    "for i in range(n):\n",
    "    l, d, x, y = map(int, input().split())\n",
    "    for j in range(l):\n",
    "        if d == 0:\n",
    "            a[x-1][y-1+j] = 1\n",
    "        else:\n",
    "            a[x-1+j][y-1] = 1\n",
    "\n",
    "for i in range(h):\n",
    "    for j in range(w):\n",
    "        print(a[i][j], end=' ')\n",
    "    print()\n",
    "####\n",
    "# h, w = map(int, input().split())\n",
    "# n = int(input())\n",
    "\n",
    "# zeros = [[0] * w for _ in range(h)]\n",
    "\n",
    "# for i in range(n):\n",
    "#     l, d, x, y = map(int, input().split())\n",
    "\n",
    "#     for j in range(l):\n",
    "#         if d == 0:\n",
    "#             zeros[x-1][y-1+j] = 1\n",
    "#         else:\n",
    "#             zeros[x-1+j][y-1] = 1\n",
    "\n",
    "# for i in range(h):\n",
    "#     for j in range(w):\n",
    "#         print(zeros[i][j], end=' ')\n",
    "#     print(end='\\n')"
   ]
  },
  {
   "cell_type": "markdown",
   "metadata": {},
   "source": [
    "### [6098 성실한 개미](https://www.codeup.kr/problem.php?id=6098)"
   ]
  },
  {
   "cell_type": "code",
   "execution_count": null,
   "metadata": {},
   "outputs": [],
   "source": [
    "array = []\n",
    "\n",
    "for i in range(10):\n",
    "    array.append(list(map(int, input().split())))\n",
    "\n",
    "x, y = 1, 1\n",
    "\n",
    "while True:\n",
    "    if (array[x][y] == 0):\n",
    "        array[x][y] = 9\n",
    "    elif (array[x][y] == 2):\n",
    "        array[x][y] = 9\n",
    "        break\n",
    "\n",
    "    if ((array[x][y+1] == 1 and array[x+1][y] == 1)):\n",
    "        break\n",
    "\n",
    "    if (array[x][y+1] != 1):\n",
    "        y = y + 1\n",
    "    elif (array[x+1][y] != 1):\n",
    "        x = x + 1\n",
    "\n",
    "for i in range(10):\n",
    "    for j in range(10):\n",
    "        print(array[i][j], end=' ')\n",
    "    print()"
   ]
  },
  {
   "cell_type": "code",
   "execution_count": null,
   "metadata": {},
   "outputs": [],
   "source": [
    "a = []\n",
    "\n",
    "for i in range(10):\n",
    "    a.append(list(map(int, input().split())))\n",
    "\n",
    "x, y = 1, 1\n",
    "\n",
    "while True:\n",
    "    if (a[x][y] == 0):\n",
    "        a[x][y] = 9\n",
    "    elif (a[x][y] == 2):\n",
    "        a[x][y] = 9\n",
    "        break\n",
    "\n",
    "    if ((a[x][y+1] == 1 and a[x+1][y] == 1)):\n",
    "        break\n",
    "\n",
    "    if (a[x][y+1] != 1):\n",
    "        y = y + 1\n",
    "    elif (a[x+1][y] != 1):\n",
    "        x = x + 1\n",
    "\n",
    "for i in range(10):\n",
    "    for j in range(10):\n",
    "        print(a[i][j], end=' ')\n",
    "    print()"
   ]
  },
  {
   "cell_type": "code",
   "execution_count": null,
   "metadata": {},
   "outputs": [],
   "source": [
    "a = []\n",
    "\n",
    "for i in range(10):\n",
    "    a.append(list(map(int, input().split())))\n",
    "\n",
    "x, y = 1, 1\n",
    "\n",
    "while True:\n",
    "    if a[x][y] == 0:\n",
    "        a[x][y] = 9\n",
    "    elif a[x][y] == 2:\n",
    "        a[x][y] = 9\n",
    "        break\n",
    "\n",
    "    if a[x][y+1] == 1 and a[x+1][y] == 1:\n",
    "        break\n",
    "\n",
    "    if a[x][y+1] != 1:\n",
    "        y = y + 1\n",
    "    elif a[x+1][y] != 1:\n",
    "        x = x + 1\n",
    "\n",
    "for i in range(10):\n",
    "    for j in range(10):\n",
    "        print(a[i][j], end=' ')\n",
    "    print()"
   ]
  },
  {
   "cell_type": "code",
   "execution_count": null,
   "metadata": {},
   "outputs": [],
   "source": [
    "a = []\n",
    "\n",
    "for i in range(10):\n",
    "    a.append(list(map(int, input().split())))\n",
    "\n",
    "x, y = 1, 1\n",
    "\n",
    "while True:\n",
    "    if a[x][y] == 0:\n",
    "        a[x][y] = 9\n",
    "    elif a[x][y] == 2:\n",
    "        a[x][y] = 9\n",
    "        break\n",
    "\n",
    "    if a[x][y+1] == 1 and a[x+1][y] == 1:\n",
    "        break\n",
    "\n",
    "    if a[x][y+1] != 1:\n",
    "        y += 1\n",
    "    elif a[x+1][y] != 1:\n",
    "        x += 1\n",
    "\n",
    "for i in range(10):\n",
    "    for j in range(10):\n",
    "        print(a[i][j], end=' ')\n",
    "    print()"
   ]
  }
 ],
 "metadata": {
  "kernelspec": {
   "display_name": "Python 3",
   "language": "python",
   "name": "python3"
  },
  "language_info": {
   "name": "python",
   "version": "3.7.0"
  }
 },
 "nbformat": 4,
 "nbformat_minor": 2
}
