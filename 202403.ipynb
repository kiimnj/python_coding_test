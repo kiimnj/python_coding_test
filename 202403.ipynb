{
 "cells": [
  {
   "cell_type": "markdown",
   "metadata": {},
   "source": [
    "# 프로그래머스"
   ]
  },
  {
   "cell_type": "markdown",
   "metadata": {},
   "source": [
    "## [Lv. 1](https://school.programmers.co.kr/learn/challenges?order=recent&levels=1&languages=python3&page=1)"
   ]
  },
  {
   "cell_type": "markdown",
   "metadata": {},
   "source": [
    "### [실패율](https://school.programmers.co.kr/learn/courses/30/lessons/42889)"
   ]
  },
  {
   "cell_type": "code",
   "execution_count": null,
   "metadata": {},
   "outputs": [],
   "source": [
    "def solution(N, stages):\n",
    "    answer = []\n",
    "    stages_dict = {}\n",
    "    for stage in stages:\n",
    "        if not stages_dict[stage]:\n",
    "            stages_dict[stage] = 0\n",
    "        stages_dict[stage] += 1\n",
    "    for i in range(len(stages_dict)):\n",
    "        if i == 0:\n",
    "            continue\n",
    "        stages_dict[i] = stages_dict[i] / (N-stages_dict[i-1])\n",
    "    for i in sorted(stages_dict, key=stages_dict[i]):\n",
    "        answer = stages_dict.values()\n",
    "    return answer"
   ]
  },
  {
   "cell_type": "markdown",
   "metadata": {},
   "source": [
    "- if not stages_dict[n]: 아니고 if n not in stages_dict:\n",
    "\n",
    "- len(stages_dict) == N 임\n",
    "\n",
    "- len(stage) != N 임\n",
    "\n",
    "- key=stages_dict[i] 아니고 key=lambda x: stages_dict[x]\n",
    "\n",
    "- answer = stages_dict.values() 아니고 answer.append(i)\n",
    "\n",
    "- 실패율 계산 식 분모 누적 계산식 정의 따로 안해서 제대로 안됨\n",
    "\n",
    "- 딕셔너리의 sorted 메소드는 키를 기준으로 정렬된 키의 리스트를 반환 - for문으로 .values() X\n",
    "\n",
    "- 스테이지는 6까지 있어도 개수가 5개면 결과값은 5개가 나와야 함 - 도전자가 아닌 실패율 데이터를 만들어야 함 - 6번 스테이지는 5번을 클리어한 인원이므로 실패율 데이터가 없어야 함"
   ]
  },
  {
   "cell_type": "markdown",
   "metadata": {},
   "source": [
    "다른 사람 풀이"
   ]
  },
  {
   "cell_type": "code",
   "execution_count": null,
   "metadata": {},
   "outputs": [],
   "source": [
    "def solution(N, stages):\n",
    "    stages_dict = {}\n",
    "    denominator = len(stages) \n",
    "    for stage in range(1, N+1):\n",
    "        if denominator != 0:\n",
    "            count = stages.count(stage)\n",
    "            stages_dict[stage] = count / denominator\n",
    "            denominator -= count\n",
    "        else:\n",
    "            stages_dict[stage] = 0\n",
    "    return sorted(stages_dict, key=lambda x: stages_dict[x], reverse=True)"
   ]
  },
  {
   "cell_type": "markdown",
   "metadata": {},
   "source": [
    "- .count(): 문자열 내부에서 특정 문자의 갯수를 구함\n",
    "\n",
    "- 댓글 1: list.count()가 O(n)이라 시간복잡도가 O(n^2)인 점이 아쉽다\n",
    "\n",
    "- 댓글 2: 매번 count 하지 않고 초반에 사전으로 미리 각 스테이지별 인원을 집계해두면 정렬을 제외 했을 때 O(n)의 시간복잡도로 풀 수 있다 -> 내 풀이에서 시도한 일부분\n",
    "\n",
    "- [비슷한 풀이 블로그 설명](https://study-hub.tistory.com/10)"
   ]
  },
  {
   "cell_type": "code",
   "execution_count": null,
   "metadata": {},
   "outputs": [],
   "source": [
    "def solution(N, stages):\n",
    "    answer = []\n",
    "    fail = []\n",
    "    info = [0] * (N + 2)\n",
    "    for stage in stages:\n",
    "        info[stage] += 1\n",
    "    for i in range(N):\n",
    "        be = sum(info[(i + 1):])\n",
    "        yet = info[i + 1]\n",
    "        if be == 0:\n",
    "            fail.append((str(i + 1), 0))\n",
    "        else:\n",
    "            fail.append((str(i + 1), yet / be))\n",
    "    for item in sorted(fail, key=lambda x: x[1], reverse=True):\n",
    "        answer.append(int(item[0]))\n",
    "    return answer"
   ]
  }
 ],
 "metadata": {
  "language_info": {
   "name": "python"
  }
 },
 "nbformat": 4,
 "nbformat_minor": 2
}
